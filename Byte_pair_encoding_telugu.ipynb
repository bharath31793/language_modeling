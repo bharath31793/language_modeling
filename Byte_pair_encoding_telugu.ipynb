{
  "nbformat": 4,
  "nbformat_minor": 0,
  "metadata": {
    "colab": {
      "provenance": [],
      "gpuType": "T4",
      "include_colab_link": true
    },
    "kernelspec": {
      "name": "python3",
      "display_name": "Python 3"
    },
    "language_info": {
      "name": "python"
    },
    "accelerator": "GPU"
  },
  "cells": [
    {
      "cell_type": "markdown",
      "metadata": {
        "id": "view-in-github",
        "colab_type": "text"
      },
      "source": [
        "<a href=\"https://colab.research.google.com/github/bharath31793/language_modeling/blob/main/Byte_pair_encoding_telugu.ipynb\" target=\"_parent\"><img src=\"https://colab.research.google.com/assets/colab-badge.svg\" alt=\"Open In Colab\"/></a>"
      ]
    },
    {
      "cell_type": "code",
      "source": [
        "__author__ = \"Bharath Gogineni\"\n",
        "__version__ = \"1.0.0\"\n",
        "__status__ = \"Development\""
      ],
      "metadata": {
        "id": "QL0JhWj1tf_m"
      },
      "execution_count": 1,
      "outputs": []
    },
    {
      "cell_type": "code",
      "execution_count": 2,
      "metadata": {
        "id": "LdPukRWcIJ7w"
      },
      "outputs": [],
      "source": [
        "from IPython.display import HTML, display\n",
        "\n",
        "def set_css():\n",
        "  display(HTML('''\n",
        "  <style>\n",
        "    pre {\n",
        "        white-space: pre-wrap;\n",
        "    }\n",
        "  </style>\n",
        "  '''))\n",
        "get_ipython().events.register('pre_run_cell', set_css)"
      ]
    },
    {
      "cell_type": "code",
      "source": [
        "# prompt: from the files, import and unzip the telugu_books.zip file and load the data into a pandas data frame and then create a input.txt file with content in text column of the csv file\n",
        "\n",
        "!unzip telugu_books.zip\n",
        "\n",
        "import pandas as pd\n",
        "\n",
        "# Assuming the zip file contains a single CSV file, and its name is something like 'telugu_books_data.csv'\n",
        "# If the filename is different, replace 'telugu_books_data.csv' with the actual filename.\n",
        "# You might need to list the contents of the unzipped directory to find the exact filename.\n",
        "# !ls\n",
        "df = pd.read_csv('telugu_books.csv')\n",
        "\n",
        "df= df.head(520)\n",
        "\n",
        "# Assuming the column containing the text content is named 'text'\n",
        "# If the column name is different, replace 'text' with the actual column name.\n",
        "text_content = df['text'].str.cat(sep='\\n')\n",
        "\n",
        "with open('input.txt', 'w') as f:\n",
        "    f.write(text_content)\n",
        "\n",
        "print(\"Data loaded into pandas DataFrame and text content written to input.txt\")"
      ],
      "metadata": {
        "colab": {
          "base_uri": "https://localhost:8080/",
          "height": 88
        },
        "id": "gI55uzKlQIpM",
        "outputId": "447e1f18-ff1a-413d-e14f-438726594feb"
      },
      "execution_count": 9,
      "outputs": [
        {
          "output_type": "display_data",
          "data": {
            "text/plain": [
              "<IPython.core.display.HTML object>"
            ],
            "text/html": [
              "\n",
              "  <style>\n",
              "    pre {\n",
              "        white-space: pre-wrap;\n",
              "    }\n",
              "  </style>\n",
              "  "
            ]
          },
          "metadata": {}
        },
        {
          "output_type": "stream",
          "name": "stdout",
          "text": [
            "Archive:  telugu_books.zip\n",
            "replace telugu_books.csv? [y]es, [n]o, [A]ll, [N]one, [r]ename: y\n",
            "  inflating: telugu_books.csv        \n",
            "Data loaded into pandas DataFrame and text content written to input.txt\n"
          ]
        }
      ]
    },
    {
      "cell_type": "code",
      "source": [
        "# read it in to inspect it\n",
        "with open('input.txt', 'r', encoding='utf-8') as f:\n",
        "    text = f.read()"
      ],
      "metadata": {
        "colab": {
          "base_uri": "https://localhost:8080/",
          "height": 17
        },
        "id": "Cg0LB6GsQVam",
        "outputId": "af0fb323-ca0b-4252-f3b3-52654a54e839"
      },
      "execution_count": 10,
      "outputs": [
        {
          "output_type": "display_data",
          "data": {
            "text/plain": [
              "<IPython.core.display.HTML object>"
            ],
            "text/html": [
              "\n",
              "  <style>\n",
              "    pre {\n",
              "        white-space: pre-wrap;\n",
              "    }\n",
              "  </style>\n",
              "  "
            ]
          },
          "metadata": {}
        }
      ]
    },
    {
      "cell_type": "code",
      "source": [
        "print(\"length of dataset in characters: \", len(text))"
      ],
      "metadata": {
        "colab": {
          "base_uri": "https://localhost:8080/",
          "height": 35
        },
        "id": "aR6_Nt4PQgMJ",
        "outputId": "ae6912ab-de9f-4437-925e-83bdb45301df"
      },
      "execution_count": 32,
      "outputs": [
        {
          "output_type": "display_data",
          "data": {
            "text/plain": [
              "<IPython.core.display.HTML object>"
            ],
            "text/html": [
              "\n",
              "  <style>\n",
              "    pre {\n",
              "        white-space: pre-wrap;\n",
              "    }\n",
              "  </style>\n",
              "  "
            ]
          },
          "metadata": {}
        },
        {
          "output_type": "stream",
          "name": "stdout",
          "text": [
            "length of dataset in characters:  2466795\n"
          ]
        }
      ]
    },
    {
      "cell_type": "code",
      "source": [
        "# let's look at the first 1000 characters\n",
        "print(text[:1000])"
      ],
      "metadata": {
        "colab": {
          "base_uri": "https://localhost:8080/",
          "height": 267
        },
        "id": "uUk3Q708Qhiu",
        "outputId": "e8eacacf-e66b-44ba-c666-7f8a6f45300c"
      },
      "execution_count": 35,
      "outputs": [
        {
          "output_type": "display_data",
          "data": {
            "text/plain": [
              "<IPython.core.display.HTML object>"
            ],
            "text/html": [
              "\n",
              "  <style>\n",
              "    pre {\n",
              "        white-space: pre-wrap;\n",
              "    }\n",
              "  </style>\n",
              "  "
            ]
          },
          "metadata": {}
        },
        {
          "output_type": "stream",
          "name": "stdout",
          "text": [
            "\n",
            "    సుశీలమ్మ కళ్ళలో భయం పారాడింది.\n",
            "    \"అనాధ బిడ్డ అని చిన్నప్పుడే తెలిస్తే మన దగ్గిరవాడు అలా అరమరిక లేకుండా చనువుగా పెరిగేవాడా?\" పుట్టెడు దిగులు సుశీలమ్మ కంఠంలో పలికింది.\n",
            "    \"అది మనం పెంచేదాన్ని బట్టి వుంటుంది. అటువంటి బేధాలు మనలో లేనట్టు తెలుసుకొనేలా పెంచాలి.\"\n",
            "    \"చాలామంది అలాగే పెంచుతారు గదండీ.\"\n",
            "    \"ఏనాడో ఒకనాడు ఆ విషయం తెలియకపోదు. మనం పట్నంలో వుంటున్నాం గనక యింత కాలమయినా ఈ రహస్యాన్ని దాచగలిగాం.\n",
            "    సుశీలమ్మ వింటూ కూర్చుంది.\n",
            "    \"ఒక వ్యక్తిత్వం అంటూ ఏర్పడ్డాక ఆ రహస్యం తెలిస్తే లోతుగా గాయపడతారు. అనేక ఆలోచనలు వస్తాయి. చిన్నప్పుడే తెలిస్తే అంతగా తలక్రిందులై పోరు\" అన్నాడు.  \n",
            "    \"వాడు మనల్ని వదిలేసి వెళ్ళిపోతాడేమో!\" అనలేక అంటున్న ఆమె గొంతులో ఏదో అడ్డుపడినట్టు ఉక్కిరిబిక్కిరి అయిపోతుంది.\n",
            "    రామనాథానికి కూడా ఆ భయం లేకపోలేదు.\n",
            "    ఆ భయాన్ని దాచుకుంటూ వెళ్ళడు. ఎలా వెళతాడు? ఎక్కడికి వెళతాడు? అసలు ఎందుకు వెళ్ళాలి? వాడికి మనమేం తక్కువ చేశామని వెళ్తాడు?\" అన్నాడు.\n",
            "    సుశీలమ్మకు ఎక్కడికో లోతు తెలియని అగాధంలోకి పడుతున్న వ్యక్తికి జారుడుమెట్లు చేతికి అందినట్టు అనిపించింది.   \n",
            "    \"వాడు వెళ్ళిప\n"
          ]
        }
      ]
    },
    {
      "cell_type": "code",
      "source": [
        "# here are all the unique characters that occur in this text\n",
        "chars = sorted(list(set(text)))\n",
        "vocab_size = len(chars)\n",
        "print(''.join(chars))\n",
        "print(vocab_size)"
      ],
      "metadata": {
        "colab": {
          "base_uri": "https://localhost:8080/",
          "height": 88
        },
        "id": "5a1LmlbaQjsh",
        "outputId": "06ac0b8d-97a6-4155-83ff-a41b3fca6bc4"
      },
      "execution_count": 13,
      "outputs": [
        {
          "output_type": "display_data",
          "data": {
            "text/plain": [
              "<IPython.core.display.HTML object>"
            ],
            "text/html": [
              "\n",
              "  <style>\n",
              "    pre {\n",
              "        white-space: pre-wrap;\n",
              "    }\n",
              "  </style>\n",
              "  "
            ]
          },
          "metadata": {}
        },
        {
          "output_type": "stream",
          "name": "stdout",
          "text": [
            "\n",
            " !\"'()*,-./0123456789:;=?ABCDEFGHIKLMNOPRSTUVWXYZ[]_`abcdefghijklmnopqrstuvwxyz| ఁంఃఅఆఇఈఉఊఋఎఏఐఒఓఔకఖగఘఙచఛజఝఞటఠడఢణతథదధనపఫబభమయరఱలళవశషసహాిీుూృౄెేైొోౌ్౦౧౨\n",
            "150\n"
          ]
        }
      ]
    },
    {
      "cell_type": "code",
      "source": [
        "# create a mapping from characters to integers\n",
        "stoi = { ch:i for i,ch in enumerate(chars) }\n",
        "itos = { i:ch for i,ch in enumerate(chars) }\n",
        "encode = lambda s: [stoi[c] for c in s] # encoder: take a string, output a list of integers\n",
        "decode = lambda l: ''.join([itos[i] for i in l]) # decoder: take a list of integers, output a string\n",
        "\n",
        "print(encode(\"అందరికి నమస్కారం\"))\n",
        "print(decode(encode(\"అందరికి నమస్కారం\")))"
      ],
      "metadata": {
        "colab": {
          "base_uri": "https://localhost:8080/",
          "height": 53
        },
        "id": "14aQlijsQs3E",
        "outputId": "d1324c4a-8d52-4130-e2c6-74ccf2863575"
      },
      "execution_count": 14,
      "outputs": [
        {
          "output_type": "display_data",
          "data": {
            "text/plain": [
              "<IPython.core.display.HTML object>"
            ],
            "text/html": [
              "\n",
              "  <style>\n",
              "    pre {\n",
              "        white-space: pre-wrap;\n",
              "    }\n",
              "  </style>\n",
              "  "
            ]
          },
          "metadata": {}
        },
        {
          "output_type": "stream",
          "name": "stdout",
          "text": [
            "[85, 83, 115, 124, 134, 98, 134, 1, 117, 122, 131, 146, 98, 133, 124, 83]\n",
            "అందరికి నమస్కారం\n"
          ]
        }
      ]
    },
    {
      "cell_type": "code",
      "source": [
        "# let's now encode the entire text dataset and store it into a torch.Tensor\n",
        "import torch # we use PyTorch: https://pytorch.org\n",
        "data = torch.tensor(encode(text), dtype=torch.long)\n",
        "print(data.shape, data.dtype)\n",
        "print(data[:1000]) # the 1000 characters we looked at earier will to the LLM look like this"
      ],
      "metadata": {
        "colab": {
          "base_uri": "https://localhost:8080/",
          "height": 1000
        },
        "id": "ZVRMR3t8RWJ4",
        "outputId": "a590a1ee-c9ea-486f-c922-c53e1b552c7b"
      },
      "execution_count": 15,
      "outputs": [
        {
          "output_type": "display_data",
          "data": {
            "text/plain": [
              "<IPython.core.display.HTML object>"
            ],
            "text/html": [
              "\n",
              "  <style>\n",
              "    pre {\n",
              "        white-space: pre-wrap;\n",
              "    }\n",
              "  </style>\n",
              "  "
            ]
          },
          "metadata": {}
        },
        {
          "output_type": "stream",
          "name": "stdout",
          "text": [
            "torch.Size([2466795]) torch.int64\n",
            "tensor([  0,  81,  81,   1,  81, 131, 136, 129, 135, 126, 122, 146, 122,   1,\n",
            "         98, 127, 146, 127, 126, 144,   1, 121, 123,  83,   1, 118, 133, 124,\n",
            "        133, 110, 134,  83, 115, 134,  10,   0,  81,  81,   1,  81,   3,  85,\n",
            "        117, 133, 116,   1, 120, 134, 110, 146, 110,   1,  85, 117, 134,   1,\n",
            "        103, 134, 117, 146, 117, 118, 146, 118, 136, 110, 141,   1, 113, 140,\n",
            "        126, 134, 131, 146, 113, 141,   1, 122, 117,   1, 115, 100, 146, 100,\n",
            "        134, 124, 128, 133, 110, 136,   1,  85, 126, 133,   1,  85, 124, 122,\n",
            "        124, 134,  98,   1, 126, 141,  98, 136,  83, 110, 133,   1, 103, 117,\n",
            "        136, 128, 136, 100, 133,   1, 118, 140, 124, 134, 100, 141, 128, 133,\n",
            "        110, 133,  25,   3,   1, 118, 136, 108, 146, 108, 140, 110, 136,   1,\n",
            "        115, 134, 100, 136, 126, 136,   1, 131, 136, 129, 135, 126, 122, 146,\n",
            "        122,   1,  98,  83, 109,  83, 126, 144,   1, 118, 126, 134,  98, 134,\n",
            "         83, 115, 134,  10,   0,  81,  81,   1,  81,   3,  85, 115, 134,   1,\n",
            "        122, 117,  83,   1, 118, 140,  83, 103, 141, 115, 133, 117, 146, 117,\n",
            "        134,   1, 120, 108, 146, 108, 134,   1, 128, 136,  83, 108, 136,  83,\n",
            "        115, 134,  10,   1,  85, 108, 136, 128,  83, 108, 134,   1, 120, 141,\n",
            "        116, 133, 126, 136,   1, 122, 117, 126, 144,   1, 126, 141, 117, 108,\n",
            "        146, 108, 136,   1, 113, 140, 126, 136, 131, 136,  98, 143, 117, 141,\n",
            "        126, 133,   1, 118, 140,  83, 103, 133, 126, 134,  10,   3,   0,  81,\n",
            "         81,   1,  81,   3, 103, 133, 126, 133, 122,  83, 115, 134,   1,  85,\n",
            "        126, 133, 100, 141,   1, 118, 140,  83, 103, 136, 113, 133, 124, 136,\n",
            "          1, 100, 115,  83, 110, 135,  10,   3,   0,  81,  81,   1,  81,   3,\n",
            "         93, 117, 133, 110, 144,   1,  95,  98, 117, 133, 110, 136,   1,  86,\n",
            "          1, 128, 134, 130, 123,  83,   1, 113, 140, 126, 134, 123,  98, 118,\n",
            "        144, 115, 136,  10,   1, 122, 117,  83,   1, 118, 108, 146, 117,  83,\n",
            "        126, 144,   1, 128, 136,  83, 108, 136, 117, 146, 117, 133,  83,   1,\n",
            "        100, 117,  98,   1, 123, 134,  83, 113,   1,  98, 133, 126, 122, 123,\n",
            "        134, 117, 133,   1,  88,   1, 124, 132, 131, 146, 123, 133, 117, 146,\n",
            "        117, 134,   1, 115, 133, 103, 100, 126, 134, 100, 133,  83,  10,   0,\n",
            "         81,  81,   1,  81, 131, 136, 129, 135, 126, 122, 146, 122,   1, 128,\n",
            "        134,  83, 108, 137,   1,  98, 137, 124, 146, 103, 136,  83, 115, 134,\n",
            "         10,   0,  81,  81,   1,  81,   3,  95,  98,   1, 128, 146, 123,  98,\n",
            "        146, 113, 134, 113, 146, 128,  83,   1,  85,  83, 108, 137,   1,  93,\n",
            "        124, 146, 118, 110, 146, 110, 133,  98,   1,  86,   1, 124, 132, 131,\n",
            "        146, 123,  83,   1, 113, 140, 126, 134, 131, 146, 113, 141,   1, 126,\n",
            "        144, 113, 136, 100, 133,   1, 100, 133, 123, 118, 110, 113, 133, 124,\n",
            "        136,  10,   1,  85, 117, 141,  98,   1,  86, 126, 144, 103, 117, 126,\n",
            "        136,   1, 128, 131, 146, 113, 133, 123, 134,  10,   1, 103, 134, 117,\n",
            "        146, 117, 118, 146, 118, 136, 110, 141,   1, 113, 140, 126, 134, 131,\n",
            "        146, 113, 141,   1,  85,  83, 113, 100, 133,   1, 113, 126,  98, 146,\n",
            "        124, 134,  83, 115, 136, 126, 142,   1, 118, 144, 124, 136,   3,   1,\n",
            "         85, 117, 146, 117, 133, 110, 136,  10,   1,  81,   0,  81,  81,   1,\n",
            "         81,   3, 128, 133, 110, 136,   1, 122, 117, 126, 146, 117, 134,   1,\n",
            "        128, 115, 134, 126, 141, 131, 134,   1, 128, 140, 127, 146, 127, 134,\n",
            "        118, 144, 113, 133, 110, 141, 122, 144,   2,   3,   1,  85, 117, 126,\n",
            "        141,  98,   1,  85,  83, 108, 136, 117, 146, 117,   1,  86, 122, 140,\n",
            "          1, 100, 143,  83, 113, 136, 126, 144,   1,  93, 115, 144,   1,  85,\n",
            "        110, 146, 110, 136, 118, 110, 134, 117, 108, 146, 108, 136,   1,  89,\n",
            "         98, 146,  98, 134, 124, 134, 120, 134,  98, 146,  98, 134, 124, 134,\n",
            "          1,  85, 123, 134, 118, 144, 113, 136,  83, 115, 134,  10,   0,  81,\n",
            "         81,   1,  81, 124, 133, 122, 117, 133, 114, 133, 117, 134,  98, 134,\n",
            "          1,  98, 137, 110, 133,   1,  86,   1, 121, 123,  83,   1, 126, 141,\n",
            "         98, 118, 144, 126, 141, 115, 136,  10,   0,  81,  81,   1,  81,  86,\n",
            "          1, 121, 123, 133, 117, 146, 117, 134,   1, 115, 133, 103, 136,  98,\n",
            "        136,  83, 108, 137,   1, 128, 140, 127, 146, 127, 110, 136,  10,   1,\n",
            "         92, 126, 133,   1, 128, 140, 127, 113, 133, 110, 136,  25,   1,  92,\n",
            "         98, 146,  98, 110, 134,  98, 134,   1, 128, 140, 127, 113, 133, 110,\n",
            "        136,  25,   1,  85, 131, 126, 136,   1,  92,  83, 115, 136,  98, 136,\n",
            "          1, 128, 140, 127, 146, 127, 133, 126, 134,  25,   1, 128, 133, 110,\n",
            "        134,  98, 134,   1, 122, 117, 122, 141,  83,   1, 113,  98, 146,  98,\n",
            "        136, 128,   1, 103, 141, 129, 133, 122, 117, 134,   1, 128, 140, 127,\n",
            "        146, 113, 133, 110, 136,  25,   3,   1,  85, 117, 146, 117, 133, 110,\n",
            "        136,  10,   0,  81,  81,   1,  81, 131, 136, 129, 135, 126, 122, 146,\n",
            "        122,  98, 136,   1,  92,  98, 146,  98, 110, 134,  98, 144,   1, 126,\n",
            "        144, 113, 136,   1, 113, 140, 126, 134, 123, 117, 134,   1,  85, 100,\n",
            "        133, 116,  83, 126, 144,  98, 134,   1, 118, 110, 136, 113, 136, 117,\n",
            "        146, 117,   1, 128, 146, 123,  98, 146, 113, 134,  98, 134,   1, 105,\n",
            "        133, 124, 136, 110, 136, 122, 140, 108, 146, 126, 136,   1, 103, 141,\n",
            "        113, 134,  98, 134,   1,  85,  83, 115, 134, 117, 108, 146, 108, 136,\n",
            "          1,  85, 117, 134, 118, 134,  83, 103, 134,  83, 115, 134,  10,  81,\n",
            "          1,  81,   0,  81,  81,   1,  81,   3, 128, 133, 110, 136,   1, 128,\n",
            "        140, 127, 146, 127, 134, 118])\n"
          ]
        }
      ]
    },
    {
      "cell_type": "code",
      "source": [
        "data = torch.tensor(encode(\"అందరు బాగున్నారా\"), dtype=torch.long)\n",
        "print(data.shape, data.dtype)\n",
        "print(data)"
      ],
      "metadata": {
        "colab": {
          "base_uri": "https://localhost:8080/",
          "height": 71
        },
        "id": "u_P2oKlbSV5c",
        "outputId": "aa1b3b03-1584-4582-cf38-b1eb9095d9c9"
      },
      "execution_count": 16,
      "outputs": [
        {
          "output_type": "display_data",
          "data": {
            "text/plain": [
              "<IPython.core.display.HTML object>"
            ],
            "text/html": [
              "\n",
              "  <style>\n",
              "    pre {\n",
              "        white-space: pre-wrap;\n",
              "    }\n",
              "  </style>\n",
              "  "
            ]
          },
          "metadata": {}
        },
        {
          "output_type": "stream",
          "name": "stdout",
          "text": [
            "torch.Size([16]) torch.int64\n",
            "tensor([ 85,  83, 115, 124, 136,   1, 120, 133, 100, 136, 117, 146, 117, 133,\n",
            "        124, 133])\n"
          ]
        }
      ]
    },
    {
      "cell_type": "code",
      "source": [
        "#Lets look at the encodigs for different chars\n",
        "ord(\"అ\")"
      ],
      "metadata": {
        "colab": {
          "base_uri": "https://localhost:8080/",
          "height": 35
        },
        "id": "biqlaxU3Si3S",
        "outputId": "40837873-e9de-41a8-f902-9545b35cef39"
      },
      "execution_count": 23,
      "outputs": [
        {
          "output_type": "display_data",
          "data": {
            "text/plain": [
              "<IPython.core.display.HTML object>"
            ],
            "text/html": [
              "\n",
              "  <style>\n",
              "    pre {\n",
              "        white-space: pre-wrap;\n",
              "    }\n",
              "  </style>\n",
              "  "
            ]
          },
          "metadata": {}
        },
        {
          "output_type": "execute_result",
          "data": {
            "text/plain": [
              "3077"
            ]
          },
          "metadata": {},
          "execution_count": 23
        }
      ]
    },
    {
      "cell_type": "code",
      "source": [
        "ord(\"ద\"), ord(\"😅\"), ord(\"र\")"
      ],
      "metadata": {
        "colab": {
          "base_uri": "https://localhost:8080/",
          "height": 35
        },
        "id": "pgNqL2U-d2QV",
        "outputId": "cb1cff31-30ae-4654-bbd9-73bb401d0364"
      },
      "execution_count": 24,
      "outputs": [
        {
          "output_type": "display_data",
          "data": {
            "text/plain": [
              "<IPython.core.display.HTML object>"
            ],
            "text/html": [
              "\n",
              "  <style>\n",
              "    pre {\n",
              "        white-space: pre-wrap;\n",
              "    }\n",
              "  </style>\n",
              "  "
            ]
          },
          "metadata": {}
        },
        {
          "output_type": "execute_result",
          "data": {
            "text/plain": [
              "(3110, 128517, 2352)"
            ]
          },
          "metadata": {},
          "execution_count": 24
        }
      ]
    },
    {
      "cell_type": "code",
      "source": [
        "k = [ord(x) for x in \"నేను తెలుగు నేర్చుకుందాం అనుకుంటున్నాను\"]\n",
        "k, len(k)"
      ],
      "metadata": {
        "colab": {
          "base_uri": "https://localhost:8080/",
          "height": 731
        },
        "id": "uNiQimlvd4IN",
        "outputId": "bad6e420-d829-4e9b-dede-6477bcc5ac49"
      },
      "execution_count": 26,
      "outputs": [
        {
          "output_type": "display_data",
          "data": {
            "text/plain": [
              "<IPython.core.display.HTML object>"
            ],
            "text/html": [
              "\n",
              "  <style>\n",
              "    pre {\n",
              "        white-space: pre-wrap;\n",
              "    }\n",
              "  </style>\n",
              "  "
            ]
          },
          "metadata": {}
        },
        {
          "output_type": "execute_result",
          "data": {
            "text/plain": [
              "([3112,\n",
              "  3143,\n",
              "  3112,\n",
              "  3137,\n",
              "  32,\n",
              "  3108,\n",
              "  3142,\n",
              "  3122,\n",
              "  3137,\n",
              "  3095,\n",
              "  3137,\n",
              "  32,\n",
              "  3112,\n",
              "  3143,\n",
              "  3120,\n",
              "  3149,\n",
              "  3098,\n",
              "  3137,\n",
              "  3093,\n",
              "  3137,\n",
              "  3074,\n",
              "  3110,\n",
              "  3134,\n",
              "  3074,\n",
              "  32,\n",
              "  3077,\n",
              "  3112,\n",
              "  3137,\n",
              "  3093,\n",
              "  3137,\n",
              "  3074,\n",
              "  3103,\n",
              "  3137,\n",
              "  3112,\n",
              "  3149,\n",
              "  3112,\n",
              "  3134,\n",
              "  3112,\n",
              "  3137],\n",
              " 39)"
            ]
          },
          "metadata": {},
          "execution_count": 26
        }
      ]
    },
    {
      "cell_type": "code",
      "source": [
        "\"నేను తెలుగు నేర్చుకుందాం అనుకుంటున్నాను\".encode(\"utf-8\")"
      ],
      "metadata": {
        "colab": {
          "base_uri": "https://localhost:8080/",
          "height": 108
        },
        "id": "hoT0hSI-eAEy",
        "outputId": "4db67ddf-86ca-46e1-c0fd-ad65eed5edb4"
      },
      "execution_count": 27,
      "outputs": [
        {
          "output_type": "display_data",
          "data": {
            "text/plain": [
              "<IPython.core.display.HTML object>"
            ],
            "text/html": [
              "\n",
              "  <style>\n",
              "    pre {\n",
              "        white-space: pre-wrap;\n",
              "    }\n",
              "  </style>\n",
              "  "
            ]
          },
          "metadata": {}
        },
        {
          "output_type": "execute_result",
          "data": {
            "text/plain": [
              "b'\\xe0\\xb0\\xa8\\xe0\\xb1\\x87\\xe0\\xb0\\xa8\\xe0\\xb1\\x81 \\xe0\\xb0\\xa4\\xe0\\xb1\\x86\\xe0\\xb0\\xb2\\xe0\\xb1\\x81\\xe0\\xb0\\x97\\xe0\\xb1\\x81 \\xe0\\xb0\\xa8\\xe0\\xb1\\x87\\xe0\\xb0\\xb0\\xe0\\xb1\\x8d\\xe0\\xb0\\x9a\\xe0\\xb1\\x81\\xe0\\xb0\\x95\\xe0\\xb1\\x81\\xe0\\xb0\\x82\\xe0\\xb0\\xa6\\xe0\\xb0\\xbe\\xe0\\xb0\\x82 \\xe0\\xb0\\x85\\xe0\\xb0\\xa8\\xe0\\xb1\\x81\\xe0\\xb0\\x95\\xe0\\xb1\\x81\\xe0\\xb0\\x82\\xe0\\xb0\\x9f\\xe0\\xb1\\x81\\xe0\\xb0\\xa8\\xe0\\xb1\\x8d\\xe0\\xb0\\xa8\\xe0\\xb0\\xbe\\xe0\\xb0\\xa8\\xe0\\xb1\\x81'"
            ]
          },
          "metadata": {},
          "execution_count": 27
        }
      ]
    },
    {
      "cell_type": "code",
      "source": [
        "l = list(\"నేను తెలుగు నేర్చుకుందాం అనుకుంటున్నాను\".encode(\"utf-8\"))\n",
        "l, len(l)"
      ],
      "metadata": {
        "colab": {
          "base_uri": "https://localhost:8080/",
          "height": 1000
        },
        "id": "J8qUD2TseatC",
        "outputId": "788c81e7-5e3d-44eb-95dd-ff307584573f"
      },
      "execution_count": 28,
      "outputs": [
        {
          "output_type": "display_data",
          "data": {
            "text/plain": [
              "<IPython.core.display.HTML object>"
            ],
            "text/html": [
              "\n",
              "  <style>\n",
              "    pre {\n",
              "        white-space: pre-wrap;\n",
              "    }\n",
              "  </style>\n",
              "  "
            ]
          },
          "metadata": {}
        },
        {
          "output_type": "execute_result",
          "data": {
            "text/plain": [
              "([224,\n",
              "  176,\n",
              "  168,\n",
              "  224,\n",
              "  177,\n",
              "  135,\n",
              "  224,\n",
              "  176,\n",
              "  168,\n",
              "  224,\n",
              "  177,\n",
              "  129,\n",
              "  32,\n",
              "  224,\n",
              "  176,\n",
              "  164,\n",
              "  224,\n",
              "  177,\n",
              "  134,\n",
              "  224,\n",
              "  176,\n",
              "  178,\n",
              "  224,\n",
              "  177,\n",
              "  129,\n",
              "  224,\n",
              "  176,\n",
              "  151,\n",
              "  224,\n",
              "  177,\n",
              "  129,\n",
              "  32,\n",
              "  224,\n",
              "  176,\n",
              "  168,\n",
              "  224,\n",
              "  177,\n",
              "  135,\n",
              "  224,\n",
              "  176,\n",
              "  176,\n",
              "  224,\n",
              "  177,\n",
              "  141,\n",
              "  224,\n",
              "  176,\n",
              "  154,\n",
              "  224,\n",
              "  177,\n",
              "  129,\n",
              "  224,\n",
              "  176,\n",
              "  149,\n",
              "  224,\n",
              "  177,\n",
              "  129,\n",
              "  224,\n",
              "  176,\n",
              "  130,\n",
              "  224,\n",
              "  176,\n",
              "  166,\n",
              "  224,\n",
              "  176,\n",
              "  190,\n",
              "  224,\n",
              "  176,\n",
              "  130,\n",
              "  32,\n",
              "  224,\n",
              "  176,\n",
              "  133,\n",
              "  224,\n",
              "  176,\n",
              "  168,\n",
              "  224,\n",
              "  177,\n",
              "  129,\n",
              "  224,\n",
              "  176,\n",
              "  149,\n",
              "  224,\n",
              "  177,\n",
              "  129,\n",
              "  224,\n",
              "  176,\n",
              "  130,\n",
              "  224,\n",
              "  176,\n",
              "  159,\n",
              "  224,\n",
              "  177,\n",
              "  129,\n",
              "  224,\n",
              "  176,\n",
              "  168,\n",
              "  224,\n",
              "  177,\n",
              "  141,\n",
              "  224,\n",
              "  176,\n",
              "  168,\n",
              "  224,\n",
              "  176,\n",
              "  190,\n",
              "  224,\n",
              "  176,\n",
              "  168,\n",
              "  224,\n",
              "  177,\n",
              "  129],\n",
              " 111)"
            ]
          },
          "metadata": {},
          "execution_count": 28
        }
      ]
    },
    {
      "cell_type": "code",
      "source": [
        "l = list(\"నే\".encode(\"utf-8\"))\n",
        "l, len(l)"
      ],
      "metadata": {
        "colab": {
          "base_uri": "https://localhost:8080/",
          "height": 35
        },
        "id": "qD9umadWeemY",
        "outputId": "6a5be7a3-d2ce-4652-8aa2-3a66f8a6ffc3"
      },
      "execution_count": 29,
      "outputs": [
        {
          "output_type": "display_data",
          "data": {
            "text/plain": [
              "<IPython.core.display.HTML object>"
            ],
            "text/html": [
              "\n",
              "  <style>\n",
              "    pre {\n",
              "        white-space: pre-wrap;\n",
              "    }\n",
              "  </style>\n",
              "  "
            ]
          },
          "metadata": {}
        },
        {
          "output_type": "execute_result",
          "data": {
            "text/plain": [
              "([224, 176, 168, 224, 177, 135], 6)"
            ]
          },
          "metadata": {},
          "execution_count": 29
        }
      ]
    },
    {
      "cell_type": "code",
      "source": [
        "k = lambda s: s**2\n",
        "list(map(k, range(10)))"
      ],
      "metadata": {
        "colab": {
          "base_uri": "https://localhost:8080/",
          "height": 35
        },
        "id": "yoWivG8uelMG",
        "outputId": "49c408ab-dc5e-447b-ba85-6f2db671cccc"
      },
      "execution_count": 30,
      "outputs": [
        {
          "output_type": "display_data",
          "data": {
            "text/plain": [
              "<IPython.core.display.HTML object>"
            ],
            "text/html": [
              "\n",
              "  <style>\n",
              "    pre {\n",
              "        white-space: pre-wrap;\n",
              "    }\n",
              "  </style>\n",
              "  "
            ]
          },
          "metadata": {}
        },
        {
          "output_type": "execute_result",
          "data": {
            "text/plain": [
              "[0, 1, 4, 9, 16, 25, 36, 49, 64, 81]"
            ]
          },
          "metadata": {},
          "execution_count": 30
        }
      ]
    },
    {
      "cell_type": "code",
      "source": [
        "#create tokens\n",
        "new_text = text[:2000]\n",
        "tokens = new_text.encode(\"utf-8\") # raw bytes\n",
        "tokens = list(map(int, tokens)) # convert to a list of integers in range 0..255 for convenience\n",
        "print('---')\n",
        "print(new_text)\n",
        "print(\"length:\", len(new_text))\n",
        "print('---')\n",
        "print(tokens)\n",
        "print(\"length:\", len(tokens))"
      ],
      "metadata": {
        "colab": {
          "base_uri": "https://localhost:8080/",
          "height": 1000
        },
        "id": "abrxZAJ3eyr9",
        "outputId": "b6fbe0e8-e584-41ca-cf49-68802453b342"
      },
      "execution_count": 37,
      "outputs": [
        {
          "output_type": "display_data",
          "data": {
            "text/plain": [
              "<IPython.core.display.HTML object>"
            ],
            "text/html": [
              "\n",
              "  <style>\n",
              "    pre {\n",
              "        white-space: pre-wrap;\n",
              "    }\n",
              "  </style>\n",
              "  "
            ]
          },
          "metadata": {}
        },
        {
          "output_type": "stream",
          "name": "stdout",
          "text": [
            "---\n",
            "\n",
            "    సుశీలమ్మ కళ్ళలో భయం పారాడింది.\n",
            "    \"అనాధ బిడ్డ అని చిన్నప్పుడే తెలిస్తే మన దగ్గిరవాడు అలా అరమరిక లేకుండా చనువుగా పెరిగేవాడా?\" పుట్టెడు దిగులు సుశీలమ్మ కంఠంలో పలికింది.\n",
            "    \"అది మనం పెంచేదాన్ని బట్టి వుంటుంది. అటువంటి బేధాలు మనలో లేనట్టు తెలుసుకొనేలా పెంచాలి.\"\n",
            "    \"చాలామంది అలాగే పెంచుతారు గదండీ.\"\n",
            "    \"ఏనాడో ఒకనాడు ఆ విషయం తెలియకపోదు. మనం పట్నంలో వుంటున్నాం గనక యింత కాలమయినా ఈ రహస్యాన్ని దాచగలిగాం.\n",
            "    సుశీలమ్మ వింటూ కూర్చుంది.\n",
            "    \"ఒక వ్యక్తిత్వం అంటూ ఏర్పడ్డాక ఆ రహస్యం తెలిస్తే లోతుగా గాయపడతారు. అనేక ఆలోచనలు వస్తాయి. చిన్నప్పుడే తెలిస్తే అంతగా తలక్రిందులై పోరు\" అన్నాడు.  \n",
            "    \"వాడు మనల్ని వదిలేసి వెళ్ళిపోతాడేమో!\" అనలేక అంటున్న ఆమె గొంతులో ఏదో అడ్డుపడినట్టు ఉక్కిరిబిక్కిరి అయిపోతుంది.\n",
            "    రామనాథానికి కూడా ఆ భయం లేకపోలేదు.\n",
            "    ఆ భయాన్ని దాచుకుంటూ వెళ్ళడు. ఎలా వెళతాడు? ఎక్కడికి వెళతాడు? అసలు ఎందుకు వెళ్ళాలి? వాడికి మనమేం తక్కువ చేశామని వెళ్తాడు?\" అన్నాడు.\n",
            "    సుశీలమ్మకు ఎక్కడికో లోతు తెలియని అగాధంలోకి పడుతున్న వ్యక్తికి జారుడుమెట్లు చేతికి అందినట్టు అనిపించింది.   \n",
            "    \"వాడు వెళ్ళిపోడంటారా?\" చేతికందిన జారుడుమెట్టును పట్టుకోవడానికి ప్రయత్నిస్తున్నట్టు అన్నది.\n",
            "    \"పిచ్చిదానా! వాడెక్కడి కెల్తాడే? వాడు ఎప్పటికీ సుశీలమ్మ కొడుకే.\n",
            "    \"నేను సుశీలమ్మ కొడుకునే!\" అన్న శరత్  బాబు మాటల్ని గుర్తు చేసుకుంటూ అన్నాడు రామనాథం.\n",
            "    అగాధంలోకి పడిపోతున్న సుశీలమ్మ చేతికి మెట్టు ఒడుపుగా దొరికినట్టు అనిపించింది.\n",
            "    \"నిజంగానా? వాడు వెళ్ళిపోతే నేను బతకనండీ\" కంఠం రుద్దమయింది.\n",
            "    \"ఛ! ఏం మాటలవి? నా వల్లనే ఈ అనర్థం ఏర్పడింది. నువ్వు వాడికి తల్లివి కాగలిగావు కాని నేను తండ్రిని కాలేకపోయాను\" గద్గద కంఠంతో అన్నాడు రామనాథం.\n",
            "    \"అలా అనకండి. మీకూ వాడి మీద ప్రేమ వుంది. అది నాకు తెలుసు. నిజం చెప్పండి. వాడు ఏం చేస్తాడోనని మీకు మాత్రం భయంగా లేదూ!\"  \n",
            "    రామనాథం కళ్ళలో నీరు తిరిగింది.\n",
            "    \"నాకు తెలుసు. వాడంటే మీకూ ఇష్టమే. మీరూ బాధపడుతూనే వున్నారు.\"\n",
            "    \"వాడు ఎక్కడికెళ్ళడూ?\" మాట మార్చే ఉద్దేశంతో అన్నాడు రామనాథం.\n",
            "    \"ఏమో తెలియదు. పిచ్చి సన్నాసి! వాడూ నా గురించి బాధపడుతున్నాడండీ పొద్దున్నే కలవరిస్తున్నాడు. \"అమ్మా!\" అంటూ పిచ్చికేక వేశాడు. నామీద ఏదో పీడకల వచ్చిందట!\"\n",
            "    \"నేను చెప్పలా? వాడు నిన్ను వదిలి ఎ\n",
            "length: 2000\n",
            "---\n",
            "[10, 194, 160, 194, 160, 32, 194, 160, 224, 176, 184, 224, 177, 129, 224, 176, 182, 224, 177, 128, 224, 176, 178, 224, 176, 174, 224, 177, 141, 224, 176, 174, 32, 224, 176, 149, 224, 176, 179, 224, 177, 141, 224, 176, 179, 224, 176, 178, 224, 177, 139, 32, 224, 176, 173, 224, 176, 175, 224, 176, 130, 32, 224, 176, 170, 224, 176, 190, 224, 176, 176, 224, 176, 190, 224, 176, 161, 224, 176, 191, 224, 176, 130, 224, 176, 166, 224, 176, 191, 46, 10, 194, 160, 194, 160, 32, 194, 160, 34, 224, 176, 133, 224, 176, 168, 224, 176, 190, 224, 176, 167, 32, 224, 176, 172, 224, 176, 191, 224, 176, 161, 224, 177, 141, 224, 176, 161, 32, 224, 176, 133, 224, 176, 168, 224, 176, 191, 32, 224, 176, 154, 224, 176, 191, 224, 176, 168, 224, 177, 141, 224, 176, 168, 224, 176, 170, 224, 177, 141, 224, 176, 170, 224, 177, 129, 224, 176, 161, 224, 177, 135, 32, 224, 176, 164, 224, 177, 134, 224, 176, 178, 224, 176, 191, 224, 176, 184, 224, 177, 141, 224, 176, 164, 224, 177, 135, 32, 224, 176, 174, 224, 176, 168, 32, 224, 176, 166, 224, 176, 151, 224, 177, 141, 224, 176, 151, 224, 176, 191, 224, 176, 176, 224, 176, 181, 224, 176, 190, 224, 176, 161, 224, 177, 129, 32, 224, 176, 133, 224, 176, 178, 224, 176, 190, 32, 224, 176, 133, 224, 176, 176, 224, 176, 174, 224, 176, 176, 224, 176, 191, 224, 176, 149, 32, 224, 176, 178, 224, 177, 135, 224, 176, 149, 224, 177, 129, 224, 176, 130, 224, 176, 161, 224, 176, 190, 32, 224, 176, 154, 224, 176, 168, 224, 177, 129, 224, 176, 181, 224, 177, 129, 224, 176, 151, 224, 176, 190, 32, 224, 176, 170, 224, 177, 134, 224, 176, 176, 224, 176, 191, 224, 176, 151, 224, 177, 135, 224, 176, 181, 224, 176, 190, 224, 176, 161, 224, 176, 190, 63, 34, 32, 224, 176, 170, 224, 177, 129, 224, 176, 159, 224, 177, 141, 224, 176, 159, 224, 177, 134, 224, 176, 161, 224, 177, 129, 32, 224, 176, 166, 224, 176, 191, 224, 176, 151, 224, 177, 129, 224, 176, 178, 224, 177, 129, 32, 224, 176, 184, 224, 177, 129, 224, 176, 182, 224, 177, 128, 224, 176, 178, 224, 176, 174, 224, 177, 141, 224, 176, 174, 32, 224, 176, 149, 224, 176, 130, 224, 176, 160, 224, 176, 130, 224, 176, 178, 224, 177, 139, 32, 224, 176, 170, 224, 176, 178, 224, 176, 191, 224, 176, 149, 224, 176, 191, 224, 176, 130, 224, 176, 166, 224, 176, 191, 46, 10, 194, 160, 194, 160, 32, 194, 160, 34, 224, 176, 133, 224, 176, 166, 224, 176, 191, 32, 224, 176, 174, 224, 176, 168, 224, 176, 130, 32, 224, 176, 170, 224, 177, 134, 224, 176, 130, 224, 176, 154, 224, 177, 135, 224, 176, 166, 224, 176, 190, 224, 176, 168, 224, 177, 141, 224, 176, 168, 224, 176, 191, 32, 224, 176, 172, 224, 176, 159, 224, 177, 141, 224, 176, 159, 224, 176, 191, 32, 224, 176, 181, 224, 177, 129, 224, 176, 130, 224, 176, 159, 224, 177, 129, 224, 176, 130, 224, 176, 166, 224, 176, 191, 46, 32, 224, 176, 133, 224, 176, 159, 224, 177, 129, 224, 176, 181, 224, 176, 130, 224, 176, 159, 224, 176, 191, 32, 224, 176, 172, 224, 177, 135, 224, 176, 167, 224, 176, 190, 224, 176, 178, 224, 177, 129, 32, 224, 176, 174, 224, 176, 168, 224, 176, 178, 224, 177, 139, 32, 224, 176, 178, 224, 177, 135, 224, 176, 168, 224, 176, 159, 224, 177, 141, 224, 176, 159, 224, 177, 129, 32, 224, 176, 164, 224, 177, 134, 224, 176, 178, 224, 177, 129, 224, 176, 184, 224, 177, 129, 224, 176, 149, 224, 177, 138, 224, 176, 168, 224, 177, 135, 224, 176, 178, 224, 176, 190, 32, 224, 176, 170, 224, 177, 134, 224, 176, 130, 224, 176, 154, 224, 176, 190, 224, 176, 178, 224, 176, 191, 46, 34, 10, 194, 160, 194, 160, 32, 194, 160, 34, 224, 176, 154, 224, 176, 190, 224, 176, 178, 224, 176, 190, 224, 176, 174, 224, 176, 130, 224, 176, 166, 224, 176, 191, 32, 224, 176, 133, 224, 176, 178, 224, 176, 190, 224, 176, 151, 224, 177, 135, 32, 224, 176, 170, 224, 177, 134, 224, 176, 130, 224, 176, 154, 224, 177, 129, 224, 176, 164, 224, 176, 190, 224, 176, 176, 224, 177, 129, 32, 224, 176, 151, 224, 176, 166, 224, 176, 130, 224, 176, 161, 224, 177, 128, 46, 34, 10, 194, 160, 194, 160, 32, 194, 160, 34, 224, 176, 143, 224, 176, 168, 224, 176, 190, 224, 176, 161, 224, 177, 139, 32, 224, 176, 146, 224, 176, 149, 224, 176, 168, 224, 176, 190, 224, 176, 161, 224, 177, 129, 32, 224, 176, 134, 32, 224, 176, 181, 224, 176, 191, 224, 176, 183, 224, 176, 175, 224, 176, 130, 32, 224, 176, 164, 224, 177, 134, 224, 176, 178, 224, 176, 191, 224, 176, 175, 224, 176, 149, 224, 176, 170, 224, 177, 139, 224, 176, 166, 224, 177, 129, 46, 32, 224, 176, 174, 224, 176, 168, 224, 176, 130, 32, 224, 176, 170, 224, 176, 159, 224, 177, 141, 224, 176, 168, 224, 176, 130, 224, 176, 178, 224, 177, 139, 32, 224, 176, 181, 224, 177, 129, 224, 176, 130, 224, 176, 159, 224, 177, 129, 224, 176, 168, 224, 177, 141, 224, 176, 168, 224, 176, 190, 224, 176, 130, 32, 224, 176, 151, 224, 176, 168, 224, 176, 149, 32, 224, 176, 175, 224, 176, 191, 224, 176, 130, 224, 176, 164, 32, 224, 176, 149, 224, 176, 190, 224, 176, 178, 224, 176, 174, 224, 176, 175, 224, 176, 191, 224, 176, 168, 224, 176, 190, 32, 224, 176, 136, 32, 224, 176, 176, 224, 176, 185, 224, 176, 184, 224, 177, 141, 224, 176, 175, 224, 176, 190, 224, 176, 168, 224, 177, 141, 224, 176, 168, 224, 176, 191, 32, 224, 176, 166, 224, 176, 190, 224, 176, 154, 224, 176, 151, 224, 176, 178, 224, 176, 191, 224, 176, 151, 224, 176, 190, 224, 176, 130, 46, 10, 194, 160, 194, 160, 32, 194, 160, 224, 176, 184, 224, 177, 129, 224, 176, 182, 224, 177, 128, 224, 176, 178, 224, 176, 174, 224, 177, 141, 224, 176, 174, 32, 224, 176, 181, 224, 176, 191, 224, 176, 130, 224, 176, 159, 224, 177, 130, 32, 224, 176, 149, 224, 177, 130, 224, 176, 176, 224, 177, 141, 224, 176, 154, 224, 177, 129, 224, 176, 130, 224, 176, 166, 224, 176, 191, 46, 10, 194, 160, 194, 160, 32, 194, 160, 34, 224, 176, 146, 224, 176, 149, 32, 224, 176, 181, 224, 177, 141, 224, 176, 175, 224, 176, 149, 224, 177, 141, 224, 176, 164, 224, 176, 191, 224, 176, 164, 224, 177, 141, 224, 176, 181, 224, 176, 130, 32, 224, 176, 133, 224, 176, 130, 224, 176, 159, 224, 177, 130, 32, 224, 176, 143, 224, 176, 176, 224, 177, 141, 224, 176, 170, 224, 176, 161, 224, 177, 141, 224, 176, 161, 224, 176, 190, 224, 176, 149, 32, 224, 176, 134, 32, 224, 176, 176, 224, 176, 185, 224, 176, 184, 224, 177, 141, 224, 176, 175, 224, 176, 130, 32, 224, 176, 164, 224, 177, 134, 224, 176, 178, 224, 176, 191, 224, 176, 184, 224, 177, 141, 224, 176, 164, 224, 177, 135, 32, 224, 176, 178, 224, 177, 139, 224, 176, 164, 224, 177, 129, 224, 176, 151, 224, 176, 190, 32, 224, 176, 151, 224, 176, 190, 224, 176, 175, 224, 176, 170, 224, 176, 161, 224, 176, 164, 224, 176, 190, 224, 176, 176, 224, 177, 129, 46, 32, 224, 176, 133, 224, 176, 168, 224, 177, 135, 224, 176, 149, 32, 224, 176, 134, 224, 176, 178, 224, 177, 139, 224, 176, 154, 224, 176, 168, 224, 176, 178, 224, 177, 129, 32, 224, 176, 181, 224, 176, 184, 224, 177, 141, 224, 176, 164, 224, 176, 190, 224, 176, 175, 224, 176, 191, 46, 32, 224, 176, 154, 224, 176, 191, 224, 176, 168, 224, 177, 141, 224, 176, 168, 224, 176, 170, 224, 177, 141, 224, 176, 170, 224, 177, 129, 224, 176, 161, 224, 177, 135, 32, 224, 176, 164, 224, 177, 134, 224, 176, 178, 224, 176, 191, 224, 176, 184, 224, 177, 141, 224, 176, 164, 224, 177, 135, 32, 224, 176, 133, 224, 176, 130, 224, 176, 164, 224, 176, 151, 224, 176, 190, 32, 224, 176, 164, 224, 176, 178, 224, 176, 149, 224, 177, 141, 224, 176, 176, 224, 176, 191, 224, 176, 130, 224, 176, 166, 224, 177, 129, 224, 176, 178, 224, 177, 136, 32, 224, 176, 170, 224, 177, 139, 224, 176, 176, 224, 177, 129, 34, 32, 224, 176, 133, 224, 176, 168, 224, 177, 141, 224, 176, 168, 224, 176, 190, 224, 176, 161, 224, 177, 129, 46, 32, 194, 160, 10, 194, 160, 194, 160, 32, 194, 160, 34, 224, 176, 181, 224, 176, 190, 224, 176, 161, 224, 177, 129, 32, 224, 176, 174, 224, 176, 168, 224, 176, 178, 224, 177, 141, 224, 176, 168, 224, 176, 191, 32, 224, 176, 181, 224, 176, 166, 224, 176, 191, 224, 176, 178, 224, 177, 135, 224, 176, 184, 224, 176, 191, 32, 224, 176, 181, 224, 177, 134, 224, 176, 179, 224, 177, 141, 224, 176, 179, 224, 176, 191, 224, 176, 170, 224, 177, 139, 224, 176, 164, 224, 176, 190, 224, 176, 161, 224, 177, 135, 224, 176, 174, 224, 177, 139, 33, 34, 32, 224, 176, 133, 224, 176, 168, 224, 176, 178, 224, 177, 135, 224, 176, 149, 32, 224, 176, 133, 224, 176, 130, 224, 176, 159, 224, 177, 129, 224, 176, 168, 224, 177, 141, 224, 176, 168, 32, 224, 176, 134, 224, 176, 174, 224, 177, 134, 32, 224, 176, 151, 224, 177, 138, 224, 176, 130, 224, 176, 164, 224, 177, 129, 224, 176, 178, 224, 177, 139, 32, 224, 176, 143, 224, 176, 166, 224, 177, 139, 32, 224, 176, 133, 224, 176, 161, 224, 177, 141, 224, 176, 161, 224, 177, 129, 224, 176, 170, 224, 176, 161, 224, 176, 191, 224, 176, 168, 224, 176, 159, 224, 177, 141, 224, 176, 159, 224, 177, 129, 32, 224, 176, 137, 224, 176, 149, 224, 177, 141, 224, 176, 149, 224, 176, 191, 224, 176, 176, 224, 176, 191, 224, 176, 172, 224, 176, 191, 224, 176, 149, 224, 177, 141, 224, 176, 149, 224, 176, 191, 224, 176, 176, 224, 176, 191, 32, 224, 176, 133, 224, 176, 175, 224, 176, 191, 224, 176, 170, 224, 177, 139, 224, 176, 164, 224, 177, 129, 224, 176, 130, 224, 176, 166, 224, 176, 191, 46, 10, 194, 160, 194, 160, 32, 194, 160, 224, 176, 176, 224, 176, 190, 224, 176, 174, 224, 176, 168, 224, 176, 190, 224, 176, 165, 224, 176, 190, 224, 176, 168, 224, 176, 191, 224, 176, 149, 224, 176, 191, 32, 224, 176, 149, 224, 177, 130, 224, 176, 161, 224, 176, 190, 32, 224, 176, 134, 32, 224, 176, 173, 224, 176, 175, 224, 176, 130, 32, 224, 176, 178, 224, 177, 135, 224, 176, 149, 224, 176, 170, 224, 177, 139, 224, 176, 178, 224, 177, 135, 224, 176, 166, 224, 177, 129, 46, 10, 194, 160, 194, 160, 32, 194, 160, 224, 176, 134, 32, 224, 176, 173, 224, 176, 175, 224, 176, 190, 224, 176, 168, 224, 177, 141, 224, 176, 168, 224, 176, 191, 32, 224, 176, 166, 224, 176, 190, 224, 176, 154, 224, 177, 129, 224, 176, 149, 224, 177, 129, 224, 176, 130, 224, 176, 159, 224, 177, 130, 32, 224, 176, 181, 224, 177, 134, 224, 176, 179, 224, 177, 141, 224, 176, 179, 224, 176, 161, 224, 177, 129, 46, 32, 224, 176, 142, 224, 176, 178, 224, 176, 190, 32, 224, 176, 181, 224, 177, 134, 224, 176, 179, 224, 176, 164, 224, 176, 190, 224, 176, 161, 224, 177, 129, 63, 32, 224, 176, 142, 224, 176, 149, 224, 177, 141, 224, 176, 149, 224, 176, 161, 224, 176, 191, 224, 176, 149, 224, 176, 191, 32, 224, 176, 181, 224, 177, 134, 224, 176, 179, 224, 176, 164, 224, 176, 190, 224, 176, 161, 224, 177, 129, 63, 32, 224, 176, 133, 224, 176, 184, 224, 176, 178, 224, 177, 129, 32, 224, 176, 142, 224, 176, 130, 224, 176, 166, 224, 177, 129, 224, 176, 149, 224, 177, 129, 32, 224, 176, 181, 224, 177, 134, 224, 176, 179, 224, 177, 141, 224, 176, 179, 224, 176, 190, 224, 176, 178, 224, 176, 191, 63, 32, 224, 176, 181, 224, 176, 190, 224, 176, 161, 224, 176, 191, 224, 176, 149, 224, 176, 191, 32, 224, 176, 174, 224, 176, 168, 224, 176, 174, 224, 177, 135, 224, 176, 130, 32, 224, 176, 164, 224, 176, 149, 224, 177, 141, 224, 176, 149, 224, 177, 129, 224, 176, 181, 32, 224, 176, 154, 224, 177, 135, 224, 176, 182, 224, 176, 190, 224, 176, 174, 224, 176, 168, 224, 176, 191, 32, 224, 176, 181, 224, 177, 134, 224, 176, 179, 224, 177, 141, 224, 176, 164, 224, 176, 190, 224, 176, 161, 224, 177, 129, 63, 34, 32, 224, 176, 133, 224, 176, 168, 224, 177, 141, 224, 176, 168, 224, 176, 190, 224, 176, 161, 224, 177, 129, 46, 10, 194, 160, 194, 160, 32, 194, 160, 224, 176, 184, 224, 177, 129, 224, 176, 182, 224, 177, 128, 224, 176, 178, 224, 176, 174, 224, 177, 141, 224, 176, 174, 224, 176, 149, 224, 177, 129, 32, 224, 176, 142, 224, 176, 149, 224, 177, 141, 224, 176, 149, 224, 176, 161, 224, 176, 191, 224, 176, 149, 224, 177, 139, 32, 224, 176, 178, 224, 177, 139, 224, 176, 164, 224, 177, 129, 32, 224, 176, 164, 224, 177, 134, 224, 176, 178, 224, 176, 191, 224, 176, 175, 224, 176, 168, 224, 176, 191, 32, 224, 176, 133, 224, 176, 151, 224, 176, 190, 224, 176, 167, 224, 176, 130, 224, 176, 178, 224, 177, 139, 224, 176, 149, 224, 176, 191, 32, 224, 176, 170, 224, 176, 161, 224, 177, 129, 224, 176, 164, 224, 177, 129, 224, 176, 168, 224, 177, 141, 224, 176, 168, 32, 224, 176, 181, 224, 177, 141, 224, 176, 175, 224, 176, 149, 224, 177, 141, 224, 176, 164, 224, 176, 191, 224, 176, 149, 224, 176, 191, 32, 224, 176, 156, 224, 176, 190, 224, 176, 176, 224, 177, 129, 224, 176, 161, 224, 177, 129, 224, 176, 174, 224, 177, 134, 224, 176, 159, 224, 177, 141, 224, 176, 178, 224, 177, 129, 32, 224, 176, 154, 224, 177, 135, 224, 176, 164, 224, 176, 191, 224, 176, 149, 224, 176, 191, 32, 224, 176, 133, 224, 176, 130, 224, 176, 166, 224, 176, 191, 224, 176, 168, 224, 176, 159, 224, 177, 141, 224, 176, 159, 224, 177, 129, 32, 224, 176, 133, 224, 176, 168, 224, 176, 191, 224, 176, 170, 224, 176, 191, 224, 176, 130, 224, 176, 154, 224, 176, 191, 224, 176, 130, 224, 176, 166, 224, 176, 191, 46, 194, 160, 32, 194, 160, 10, 194, 160, 194, 160, 32, 194, 160, 34, 224, 176, 181, 224, 176, 190, 224, 176, 161, 224, 177, 129, 32, 224, 176, 181, 224, 177, 134, 224, 176, 179, 224, 177, 141, 224, 176, 179, 224, 176, 191, 224, 176, 170, 224, 177, 139, 224, 176, 161, 224, 176, 130, 224, 176, 159, 224, 176, 190, 224, 176, 176, 224, 176, 190, 63, 34, 32, 224, 176, 154, 224, 177, 135, 224, 176, 164, 224, 176, 191, 224, 176, 149, 224, 176, 130, 224, 176, 166, 224, 176, 191, 224, 176, 168, 32, 224, 176, 156, 224, 176, 190, 224, 176, 176, 224, 177, 129, 224, 176, 161, 224, 177, 129, 224, 176, 174, 224, 177, 134, 224, 176, 159, 224, 177, 141, 224, 176, 159, 224, 177, 129, 224, 176, 168, 224, 177, 129, 32, 224, 176, 170, 224, 176, 159, 224, 177, 141, 224, 176, 159, 224, 177, 129, 224, 176, 149, 224, 177, 139, 224, 176, 181, 224, 176, 161, 224, 176, 190, 224, 176, 168, 224, 176, 191, 224, 176, 149, 224, 176, 191, 32, 224, 176, 170, 224, 177, 141, 224, 176, 176, 224, 176, 175, 224, 176, 164, 224, 177, 141, 224, 176, 168, 224, 176, 191, 224, 176, 184, 224, 177, 141, 224, 176, 164, 224, 177, 129, 224, 176, 168, 224, 177, 141, 224, 176, 168, 224, 176, 159, 224, 177, 141, 224, 176, 159, 224, 177, 129, 32, 224, 176, 133, 224, 176, 168, 224, 177, 141, 224, 176, 168, 224, 176, 166, 224, 176, 191, 46, 10, 194, 160, 194, 160, 32, 194, 160, 34, 224, 176, 170, 224, 176, 191, 224, 176, 154, 224, 177, 141, 224, 176, 154, 224, 176, 191, 224, 176, 166, 224, 176, 190, 224, 176, 168, 224, 176, 190, 33, 32, 224, 176, 181, 224, 176, 190, 224, 176, 161, 224, 177, 134, 224, 176, 149, 224, 177, 141, 224, 176, 149, 224, 176, 161, 224, 176, 191, 32, 224, 176, 149, 224, 177, 134, 224, 176, 178, 224, 177, 141, 224, 176, 164, 224, 176, 190, 224, 176, 161, 224, 177, 135, 63, 32, 224, 176, 181, 224, 176, 190, 224, 176, 161, 224, 177, 129, 32, 224, 176, 142, 224, 176, 170, 224, 177, 141, 224, 176, 170, 224, 176, 159, 224, 176, 191, 224, 176, 149, 224, 177, 128, 32, 224, 176, 184, 224, 177, 129, 224, 176, 182, 224, 177, 128, 224, 176, 178, 224, 176, 174, 224, 177, 141, 224, 176, 174, 32, 224, 176, 149, 224, 177, 138, 224, 176, 161, 224, 177, 129, 224, 176, 149, 224, 177, 135, 46, 10, 194, 160, 194, 160, 32, 194, 160, 34, 224, 176, 168, 224, 177, 135, 224, 176, 168, 224, 177, 129, 32, 224, 176, 184, 224, 177, 129, 224, 176, 182, 224, 177, 128, 224, 176, 178, 224, 176, 174, 224, 177, 141, 224, 176, 174, 32, 224, 176, 149, 224, 177, 138, 224, 176, 161, 224, 177, 129, 224, 176, 149, 224, 177, 129, 224, 176, 168, 224, 177, 135, 33, 34, 32, 224, 176, 133, 224, 176, 168, 224, 177, 141, 224, 176, 168, 32, 224, 176, 182, 224, 176, 176, 224, 176, 164, 224, 177, 141, 194, 160, 32, 224, 176, 172, 224, 176, 190, 224, 176, 172, 224, 177, 129, 32, 224, 176, 174, 224, 176, 190, 224, 176, 159, 224, 176, 178, 224, 177, 141, 224, 176, 168, 224, 176, 191, 32, 224, 176, 151, 224, 177, 129, 224, 176, 176, 224, 177, 141, 224, 176, 164, 224, 177, 129, 32, 224, 176, 154, 224, 177, 135, 224, 176, 184, 224, 177, 129, 224, 176, 149, 224, 177, 129, 224, 176, 130, 224, 176, 159, 224, 177, 130, 32, 224, 176, 133, 224, 176, 168, 224, 177, 141, 224, 176, 168, 224, 176, 190, 224, 176, 161, 224, 177, 129, 32, 224, 176, 176, 224, 176, 190, 224, 176, 174, 224, 176, 168, 224, 176, 190, 224, 176, 165, 224, 176, 130, 46, 10, 194, 160, 194, 160, 32, 194, 160, 224, 176, 133, 224, 176, 151, 224, 176, 190, 224, 176, 167, 224, 176, 130, 224, 176, 178, 224, 177, 139, 224, 176, 149, 224, 176, 191, 32, 224, 176, 170, 224, 176, 161, 224, 176, 191, 224, 176, 170, 224, 177, 139, 224, 176, 164, 224, 177, 129, 224, 176, 168, 224, 177, 141, 224, 176, 168, 32, 224, 176, 184, 224, 177, 129, 224, 176, 182, 224, 177, 128, 224, 176, 178, 224, 176, 174, 224, 177, 141, 224, 176, 174, 32, 224, 176, 154, 224, 177, 135, 224, 176, 164, 224, 176, 191, 224, 176, 149, 224, 176, 191, 32, 224, 176, 174, 224, 177, 134, 224, 176, 159, 224, 177, 141, 224, 176, 159, 224, 177, 129, 32, 224, 176, 146, 224, 176, 161, 224, 177, 129, 224, 176, 170, 224, 177, 129, 224, 176, 151, 224, 176, 190, 32, 224, 176, 166, 224, 177, 138, 224, 176, 176, 224, 176, 191, 224, 176, 149, 224, 176, 191, 224, 176, 168, 224, 176, 159, 224, 177, 141, 224, 176, 159, 224, 177, 129, 32, 224, 176, 133, 224, 176, 168, 224, 176, 191, 224, 176, 170, 224, 176, 191, 224, 176, 130, 224, 176, 154, 224, 176, 191, 224, 176, 130, 224, 176, 166, 224, 176, 191, 46, 10, 194, 160, 194, 160, 32, 194, 160, 34, 224, 176, 168, 224, 176, 191, 224, 176, 156, 224, 176, 130, 224, 176, 151, 224, 176, 190, 224, 176, 168, 224, 176, 190, 63, 32, 224, 176, 181, 224, 176, 190, 224, 176, 161, 224, 177, 129, 32, 224, 176, 181, 224, 177, 134, 224, 176, 179, 224, 177, 141, 224, 176, 179, 224, 176, 191, 224, 176, 170, 224, 177, 139, 224, 176, 164, 224, 177, 135, 32, 224, 176, 168, 224, 177, 135, 224, 176, 168, 224, 177, 129, 32, 224, 176, 172, 224, 176, 164, 224, 176, 149, 224, 176, 168, 224, 176, 130, 224, 176, 161, 224, 177, 128, 34, 32, 224, 176, 149, 224, 176, 130, 224, 176, 160, 224, 176, 130, 32, 224, 176, 176, 224, 177, 129, 224, 176, 166, 224, 177, 141, 224, 176, 166, 224, 176, 174, 224, 176, 175, 224, 176, 191, 224, 176, 130, 224, 176, 166, 224, 176, 191, 46, 10, 194, 160, 194, 160, 32, 194, 160, 34, 224, 176, 155, 33, 32, 224, 176, 143, 224, 176, 130, 32, 224, 176, 174, 224, 176, 190, 224, 176, 159, 224, 176, 178, 224, 176, 181, 224, 176, 191, 63, 32, 224, 176, 168, 224, 176, 190, 32, 224, 176, 181, 224, 176, 178, 224, 177, 141, 224, 176, 178, 224, 176, 168, 224, 177, 135, 32, 224, 176, 136, 32, 224, 176, 133, 224, 176, 168, 224, 176, 176, 224, 177, 141, 224, 176, 165, 224, 176, 130, 32, 224, 176, 143, 224, 176, 176, 224, 177, 141, 224, 176, 170, 224, 176, 161, 224, 176, 191, 224, 176, 130, 224, 176, 166, 224, 176, 191, 46, 32, 224, 176, 168, 224, 177, 129, 224, 176, 181, 224, 177, 141, 224, 176, 181, 224, 177, 129, 32, 224, 176, 181, 224, 176, 190, 224, 176, 161, 224, 176, 191, 224, 176, 149, 224, 176, 191, 32, 224, 176, 164, 224, 176, 178, 224, 177, 141, 224, 176, 178, 224, 176, 191, 224, 176, 181, 224, 176, 191, 32, 224, 176, 149, 224, 176, 190, 224, 176, 151, 224, 176, 178, 224, 176, 191, 224, 176, 151, 224, 176, 190, 224, 176, 181, 224, 177, 129, 32, 224, 176, 149, 224, 176, 190, 224, 176, 168, 224, 176, 191, 32, 224, 176, 168, 224, 177, 135, 224, 176, 168, 224, 177, 129, 32, 224, 176, 164, 224, 176, 130, 224, 176, 161, 224, 177, 141, 224, 176, 176, 224, 176, 191, 224, 176, 168, 224, 176, 191, 32, 224, 176, 149, 224, 176, 190, 224, 176, 178, 224, 177, 135, 224, 176, 149, 224, 176, 170, 224, 177, 139, 224, 176, 175, 224, 176, 190, 224, 176, 168, 224, 177, 129, 34, 32, 224, 176, 151, 224, 176, 166, 224, 177, 141, 224, 176, 151, 224, 176, 166, 32, 224, 176, 149, 224, 176, 130, 224, 176, 160, 224, 176, 130, 224, 176, 164, 224, 177, 139, 32, 224, 176, 133, 224, 176, 168, 224, 177, 141, 224, 176, 168, 224, 176, 190, 224, 176, 161, 224, 177, 129, 32, 224, 176, 176, 224, 176, 190, 224, 176, 174, 224, 176, 168, 224, 176, 190, 224, 176, 165, 224, 176, 130, 46, 10, 194, 160, 194, 160, 32, 194, 160, 34, 224, 176, 133, 224, 176, 178, 224, 176, 190, 32, 224, 176, 133, 224, 176, 168, 224, 176, 149, 224, 176, 130, 224, 176, 161, 224, 176, 191, 46, 32, 224, 176, 174, 224, 177, 128, 224, 176, 149, 224, 177, 130, 32, 224, 176, 181, 224, 176, 190, 224, 176, 161, 224, 176, 191, 32, 224, 176, 174, 224, 177, 128, 224, 176, 166, 32, 224, 176, 170, 224, 177, 141, 224, 176, 176, 224, 177, 135, 224, 176, 174, 32, 224, 176, 181, 224, 177, 129, 224, 176, 130, 224, 176, 166, 224, 176, 191, 46, 32, 224, 176, 133, 224, 176, 166, 224, 176, 191, 32, 224, 176, 168, 224, 176, 190, 224, 176, 149, 224, 177, 129, 32, 224, 176, 164, 224, 177, 134, 224, 176, 178, 224, 177, 129, 224, 176, 184, 224, 177, 129, 46, 32, 224, 176, 168, 224, 176, 191, 224, 176, 156, 224, 176, 130, 32, 224, 176, 154, 224, 177, 134, 224, 176, 170, 224, 177, 141, 224, 176, 170, 224, 176, 130, 224, 176, 161, 224, 176, 191, 46, 32, 224, 176, 181, 224, 176, 190, 224, 176, 161, 224, 177, 129, 32, 224, 176, 143, 224, 176, 130, 32, 224, 176, 154, 224, 177, 135, 224, 176, 184, 224, 177, 141, 224, 176, 164, 224, 176, 190, 224, 176, 161, 224, 177, 139, 224, 176, 168, 224, 176, 168, 224, 176, 191, 32, 224, 176, 174, 224, 177, 128, 224, 176, 149, 224, 177, 129, 32, 224, 176, 174, 224, 176, 190, 224, 176, 164, 224, 177, 141, 224, 176, 176, 224, 176, 130, 32, 224, 176, 173, 224, 176, 175, 224, 176, 130, 224, 176, 151, 224, 176, 190, 32, 224, 176, 178, 224, 177, 135, 224, 176, 166, 224, 177, 130, 33, 34, 32, 194, 160, 10, 194, 160, 194, 160, 32, 194, 160, 224, 176, 176, 224, 176, 190, 224, 176, 174, 224, 176, 168, 224, 176, 190, 224, 176, 165, 224, 176, 130, 32, 224, 176, 149, 224, 176, 179, 224, 177, 141, 224, 176, 179, 224, 176, 178, 224, 177, 139, 32, 224, 176, 168, 224, 177, 128, 224, 176, 176, 224, 177, 129, 32, 224, 176, 164, 224, 176, 191, 224, 176, 176, 224, 176, 191, 224, 176, 151, 224, 176, 191, 224, 176, 130, 224, 176, 166, 224, 176, 191, 46, 10, 194, 160, 194, 160, 32, 194, 160, 34, 224, 176, 168, 224, 176, 190, 224, 176, 149, 224, 177, 129, 32, 224, 176, 164, 224, 177, 134, 224, 176, 178, 224, 177, 129, 224, 176, 184, 224, 177, 129, 46, 32, 224, 176, 181, 224, 176, 190, 224, 176, 161, 224, 176, 130, 224, 176, 159, 224, 177, 135, 32, 224, 176, 174, 224, 177, 128, 224, 176, 149, 224, 177, 130, 32, 224, 176, 135, 224, 176, 183, 224, 177, 141, 224, 176, 159, 224, 176, 174, 224, 177, 135, 46, 32, 224, 176, 174, 224, 177, 128, 224, 176, 176, 224, 177, 130, 32, 224, 176, 172, 224, 176, 190, 224, 176, 167, 224, 176, 170, 224, 176, 161, 224, 177, 129, 224, 176, 164, 224, 177, 130, 224, 176, 168, 224, 177, 135, 32, 224, 176, 181, 224, 177, 129, 224, 176, 168, 224, 177, 141, 224, 176, 168, 224, 176, 190, 224, 176, 176, 224, 177, 129, 46, 34, 10, 194, 160, 194, 160, 32, 194, 160, 34, 224, 176, 181, 224, 176, 190, 224, 176, 161, 224, 177, 129, 32, 224, 176, 142, 224, 176, 149, 224, 177, 141, 224, 176, 149, 224, 176, 161, 224, 176, 191, 224, 176, 149, 224, 177, 134, 224, 176, 179, 224, 177, 141, 224, 176, 179, 224, 176, 161, 224, 177, 130, 63, 34, 32, 224, 176, 174, 224, 176, 190, 224, 176, 159, 32, 224, 176, 174, 224, 176, 190, 224, 176, 176, 224, 177, 141, 224, 176, 154, 224, 177, 135, 32, 224, 176, 137, 224, 176, 166, 224, 177, 141, 224, 176, 166, 224, 177, 135, 224, 176, 182, 224, 176, 130, 224, 176, 164, 224, 177, 139, 32, 224, 176, 133, 224, 176, 168, 224, 177, 141, 224, 176, 168, 224, 176, 190, 224, 176, 161, 224, 177, 129, 32, 224, 176, 176, 224, 176, 190, 224, 176, 174, 224, 176, 168, 224, 176, 190, 224, 176, 165, 224, 176, 130, 46, 10, 194, 160, 194, 160, 32, 194, 160, 34, 224, 176, 143, 224, 176, 174, 224, 177, 139, 32, 224, 176, 164, 224, 177, 134, 224, 176, 178, 224, 176, 191, 224, 176, 175, 224, 176, 166, 224, 177, 129, 46, 32, 224, 176, 170, 224, 176, 191, 224, 176, 154, 224, 177, 141, 224, 176, 154, 224, 176, 191, 32, 224, 176, 184, 224, 176, 168, 224, 177, 141, 224, 176, 168, 224, 176, 190, 224, 176, 184, 224, 176, 191, 33, 32, 224, 176, 181, 224, 176, 190, 224, 176, 161, 224, 177, 130, 32, 224, 176, 168, 224, 176, 190, 32, 224, 176, 151, 224, 177, 129, 224, 176, 176, 224, 176, 191, 224, 176, 130, 224, 176, 154, 224, 176, 191, 32, 224, 176, 172, 224, 176, 190, 224, 176, 167, 224, 176, 170, 224, 176, 161, 224, 177, 129, 224, 176, 164, 224, 177, 129, 224, 176, 168, 224, 177, 141, 224, 176, 168, 224, 176, 190, 224, 176, 161, 224, 176, 130, 224, 176, 161, 224, 177, 128, 32, 224, 176, 170, 224, 177, 138, 224, 176, 166, 224, 177, 141, 224, 176, 166, 224, 177, 129, 224, 176, 168, 224, 177, 141, 224, 176, 168, 224, 177, 135, 32, 224, 176, 149, 224, 176, 178, 224, 176, 181, 224, 176, 176, 224, 176, 191, 224, 176, 184, 224, 177, 141, 224, 176, 164, 224, 177, 129, 224, 176, 168, 224, 177, 141, 224, 176, 168, 224, 176, 190, 224, 176, 161, 224, 177, 129, 46, 32, 34, 224, 176, 133, 224, 176, 174, 224, 177, 141, 224, 176, 174, 224, 176, 190, 33, 34, 32, 224, 176, 133, 224, 176, 130, 224, 176, 159, 224, 177, 130, 32, 224, 176, 170, 224, 176, 191, 224, 176, 154, 224, 177, 141, 224, 176, 154, 224, 176, 191, 224, 176, 149, 224, 177, 135, 224, 176, 149, 32, 224, 176, 181, 224, 177, 135, 224, 176, 182, 224, 176, 190, 224, 176, 161, 224, 177, 129, 46, 32, 224, 176, 168, 224, 176, 190, 224, 176, 174, 224, 177, 128, 224, 176, 166, 32, 224, 176, 143, 224, 176, 166, 224, 177, 139, 32, 224, 176, 170, 224, 177, 128, 224, 176, 161, 224, 176, 149, 224, 176, 178, 32, 224, 176, 181, 224, 176, 154, 224, 177, 141, 224, 176, 154, 224, 176, 191, 224, 176, 130, 224, 176, 166, 224, 176, 159, 33, 34, 10, 194, 160, 194, 160, 32, 194, 160, 34, 224, 176, 168, 224, 177, 135, 224, 176, 168, 224, 177, 129, 32, 224, 176, 154, 224, 177, 134, 224, 176, 170, 224, 177, 141, 224, 176, 170, 224, 176, 178, 224, 176, 190, 63, 32, 224, 176, 181, 224, 176, 190, 224, 176, 161, 224, 177, 129, 32, 224, 176, 168, 224, 176, 191, 224, 176, 168, 224, 177, 141, 224, 176, 168, 224, 177, 129, 32, 224, 176, 181, 224, 176, 166, 224, 176, 191, 224, 176, 178, 224, 176, 191, 32, 224, 176, 142]\n",
            "length: 5226\n"
          ]
        }
      ]
    },
    {
      "cell_type": "code",
      "source": [
        "#sample BP test\n",
        "l = [1, 2, 3, 4, 5]\n",
        "list(zip(l, l[1:]))"
      ],
      "metadata": {
        "colab": {
          "base_uri": "https://localhost:8080/",
          "height": 35
        },
        "id": "6NrTqKu0fHcf",
        "outputId": "aa5b384b-f6ab-49cf-a809-3760fe654136"
      },
      "execution_count": 38,
      "outputs": [
        {
          "output_type": "display_data",
          "data": {
            "text/plain": [
              "<IPython.core.display.HTML object>"
            ],
            "text/html": [
              "\n",
              "  <style>\n",
              "    pre {\n",
              "        white-space: pre-wrap;\n",
              "    }\n",
              "  </style>\n",
              "  "
            ]
          },
          "metadata": {}
        },
        {
          "output_type": "execute_result",
          "data": {
            "text/plain": [
              "[(1, 2), (2, 3), (3, 4), (4, 5)]"
            ]
          },
          "metadata": {},
          "execution_count": 38
        }
      ]
    },
    {
      "cell_type": "code",
      "source": [
        "#Pair\n",
        "d = {(1, 2): 10, ('a', 'b'): 23, 3: (45, 56)}\n",
        "d.get((1, 3), 0), d.get((4, 1), 0)"
      ],
      "metadata": {
        "colab": {
          "base_uri": "https://localhost:8080/",
          "height": 35
        },
        "id": "_EEZH9pBfPVw",
        "outputId": "d5db2425-a5cc-43ef-ed2c-6ac9d45f44a1"
      },
      "execution_count": 41,
      "outputs": [
        {
          "output_type": "display_data",
          "data": {
            "text/plain": [
              "<IPython.core.display.HTML object>"
            ],
            "text/html": [
              "\n",
              "  <style>\n",
              "    pre {\n",
              "        white-space: pre-wrap;\n",
              "    }\n",
              "  </style>\n",
              "  "
            ]
          },
          "metadata": {}
        },
        {
          "output_type": "execute_result",
          "data": {
            "text/plain": [
              "(0, 0)"
            ]
          },
          "metadata": {},
          "execution_count": 41
        }
      ]
    },
    {
      "cell_type": "code",
      "source": [
        "def get_stats(ids):\n",
        "    counts = {}\n",
        "    for pair in zip(ids, ids[1:]): # Pythonic way to iterate consecutive elements\n",
        "        counts[pair] = counts.get(pair, 0) + 1\n",
        "    return counts\n",
        "\n",
        "stats = get_stats(tokens)\n",
        "# print(stats)\n",
        "print(sorted(((v,k) for k,v in stats.items()), reverse=True))"
      ],
      "metadata": {
        "colab": {
          "base_uri": "https://localhost:8080/",
          "height": 410
        },
        "id": "U7CpC5wjfp0I",
        "outputId": "b9b8f999-a786-4b19-eb1a-d1e52a7c66d4"
      },
      "execution_count": 44,
      "outputs": [
        {
          "output_type": "display_data",
          "data": {
            "text/plain": [
              "<IPython.core.display.HTML object>"
            ],
            "text/html": [
              "\n",
              "  <style>\n",
              "    pre {\n",
              "        white-space: pre-wrap;\n",
              "    }\n",
              "  </style>\n",
              "  "
            ]
          },
          "metadata": {}
        },
        {
          "output_type": "stream",
          "name": "stdout",
          "text": [
            "[(1198, (224, 176)), (378, (224, 177)), (214, (32, 224)), (130, (176, 191)), (122, (177, 129)), (115, (176, 168)), (111, (176, 190)), (110, (177, 141)), (109, (168, 224)), (109, (141, 224)), (91, (190, 224)), (77, (191, 224)), (77, (176, 149)), (75, (176, 130)), (74, (194, 160)), (70, (176, 161)), (70, (149, 224)), (69, (161, 224)), (66, (176, 178)), (65, (178, 224)), (63, (129, 224)), (58, (130, 224)), (52, (176, 174)), (52, (176, 164)), (51, (164, 224)), (48, (176, 181)), (47, (181, 224)), (46, (176, 170)), (46, (176, 166)), (46, (170, 224)), (45, (177, 135)), (45, (174, 224)), (43, (166, 224)), (42, (129, 32)), (40, (176, 224)), (40, (176, 176)), (40, (176, 159)), (38, (159, 224)), (34, (191, 32)), (33, (176, 133)), (33, (133, 224)), (32, (134, 224)), (31, (177, 134)), (31, (176, 154)), (31, (154, 224)), (30, (177, 139)), (30, (135, 224)), (26, (176, 151)), (26, (151, 224)), (26, (32, 194)), (25, (160, 32)), (25, (130, 32)), (24, (184, 224)), (24, (176, 184)), (23, (160, 194)), (23, (10, 194)), (20, (176, 175)), (20, (175, 224)), (19, (179, 224)), (19, (177, 128)), (19, (176, 179)), (17, (34, 224)), (16, (191, 46)), (16, (160, 34)), (16, (139, 224)), (16, (46, 32)), (15, (128, 224)), (15, (46, 10)), (14, (190, 32)), (14, (177, 130)), (13, (139, 32)), (12, (135, 32)), (12, (129, 46)), (11, (182, 224)), (11, (176, 182)), (11, (34, 32)), (10, (160, 224)), (9, (176, 172)), (9, (172, 224)), (8, (176, 143)), (8, (143, 224)), (7, (176, 142)), (7, (174, 32)), (7, (149, 32)), (7, (63, 32)), (6, (177, 138)), (6, (176, 167)), (6, (176, 165)), (6, (176, 134)), (6, (168, 32)), (6, (165, 224)), (6, (142, 224)), (6, (138, 224)), (5, (167, 224)), (5, (134, 32)), (5, (33, 34)), (4, (190, 63)), (4, (176, 173)), (4, (176, 156)), (4, (173, 224)), (4, (156, 224)), (4, (130, 46)), (4, (63, 34)), (4, (34, 10)), (3, (176, 160)), (3, (176, 146)), (3, (166, 32)), (3, (160, 10)), (3, (146, 224)), (3, (136, 32)), (3, (129, 63)), (3, (46, 34)), (3, (33, 32)), (2, (191, 63)), (2, (190, 33)), (2, (185, 224)), (2, (183, 224)), (2, (176, 185)), (2, (176, 183)), (2, (176, 137)), (2, (176, 136)), (2, (137, 224)), (2, (135, 46)), (2, (129, 34)), (2, (128, 32)), (1, (191, 33)), (1, (181, 32)), (1, (178, 32)), (1, (177, 136)), (1, (176, 155)), (1, (176, 135)), (1, (167, 32)), (1, (164, 32)), (1, (161, 32)), (1, (159, 33)), (1, (159, 32)), (1, (155, 33)), (1, (141, 194)), (1, (139, 33)), (1, (135, 63)), (1, (135, 33)), (1, (130, 63)), (1, (130, 33)), (1, (128, 46)), (1, (128, 34)), (1, (46, 194)), (1, (32, 34))]\n"
          ]
        }
      ]
    },
    {
      "cell_type": "code",
      "source": [
        "top_pair = max(stats, key=stats.get)\n",
        "top_pair"
      ],
      "metadata": {
        "colab": {
          "base_uri": "https://localhost:8080/",
          "height": 35
        },
        "id": "p5OuKL3tgkY4",
        "outputId": "37f26f53-24e8-4ff7-ee2e-f34f2ae6f875"
      },
      "execution_count": 42,
      "outputs": [
        {
          "output_type": "display_data",
          "data": {
            "text/plain": [
              "<IPython.core.display.HTML object>"
            ],
            "text/html": [
              "\n",
              "  <style>\n",
              "    pre {\n",
              "        white-space: pre-wrap;\n",
              "    }\n",
              "  </style>\n",
              "  "
            ]
          },
          "metadata": {}
        },
        {
          "output_type": "execute_result",
          "data": {
            "text/plain": [
              "(224, 176)"
            ]
          },
          "metadata": {},
          "execution_count": 42
        }
      ]
    },
    {
      "cell_type": "code",
      "source": [
        "chr(101), chr(32)"
      ],
      "metadata": {
        "colab": {
          "base_uri": "https://localhost:8080/",
          "height": 35
        },
        "id": "GqCuqKcdhIUk",
        "outputId": "ef1024f2-ae5c-44c9-ac1e-460b98b76a16"
      },
      "execution_count": 43,
      "outputs": [
        {
          "output_type": "display_data",
          "data": {
            "text/plain": [
              "<IPython.core.display.HTML object>"
            ],
            "text/html": [
              "\n",
              "  <style>\n",
              "    pre {\n",
              "        white-space: pre-wrap;\n",
              "    }\n",
              "  </style>\n",
              "  "
            ]
          },
          "metadata": {}
        },
        {
          "output_type": "execute_result",
          "data": {
            "text/plain": [
              "('e', ' ')"
            ]
          },
          "metadata": {},
          "execution_count": 43
        }
      ]
    },
    {
      "cell_type": "code",
      "source": [
        "def merge(ids, pair, idx):\n",
        "  # in the list of ints (ids), replace all consecutive occurences of pair with the new token idx\n",
        "  newids = []\n",
        "  i = 0\n",
        "  while i < len(ids):\n",
        "    # if we are not at the very last position AND the pair matches, replace it\n",
        "    if i < len(ids) - 1 and ids[i] == pair[0] and ids[i+1] == pair[1]:\n",
        "      newids.append(idx)\n",
        "      i += 2\n",
        "    else:\n",
        "      newids.append(ids[i])\n",
        "      i += 1\n",
        "  return newids\n",
        "\n",
        "print(merge([5, 6, 6, 7, 9, 1], (6, 7), 99))\n",
        "\n",
        "tokens2 = merge(tokens, top_pair, 256)\n",
        "\n",
        "\n",
        "print(tokens2)\n",
        "print(\"length:\", len(tokens2), len(tokens))"
      ],
      "metadata": {
        "colab": {
          "base_uri": "https://localhost:8080/",
          "height": 1000
        },
        "id": "7R1MH9pwhK8S",
        "outputId": "3078118c-0b80-49cc-c04c-635bc98b34f4"
      },
      "execution_count": 45,
      "outputs": [
        {
          "output_type": "display_data",
          "data": {
            "text/plain": [
              "<IPython.core.display.HTML object>"
            ],
            "text/html": [
              "\n",
              "  <style>\n",
              "    pre {\n",
              "        white-space: pre-wrap;\n",
              "    }\n",
              "  </style>\n",
              "  "
            ]
          },
          "metadata": {}
        },
        {
          "output_type": "stream",
          "name": "stdout",
          "text": [
            "[5, 6, 99, 9, 1]\n",
            "[10, 194, 160, 194, 160, 32, 194, 160, 256, 184, 224, 177, 129, 256, 182, 224, 177, 128, 256, 178, 256, 174, 224, 177, 141, 256, 174, 32, 256, 149, 256, 179, 224, 177, 141, 256, 179, 256, 178, 224, 177, 139, 32, 256, 173, 256, 175, 256, 130, 32, 256, 170, 256, 190, 256, 176, 256, 190, 256, 161, 256, 191, 256, 130, 256, 166, 256, 191, 46, 10, 194, 160, 194, 160, 32, 194, 160, 34, 256, 133, 256, 168, 256, 190, 256, 167, 32, 256, 172, 256, 191, 256, 161, 224, 177, 141, 256, 161, 32, 256, 133, 256, 168, 256, 191, 32, 256, 154, 256, 191, 256, 168, 224, 177, 141, 256, 168, 256, 170, 224, 177, 141, 256, 170, 224, 177, 129, 256, 161, 224, 177, 135, 32, 256, 164, 224, 177, 134, 256, 178, 256, 191, 256, 184, 224, 177, 141, 256, 164, 224, 177, 135, 32, 256, 174, 256, 168, 32, 256, 166, 256, 151, 224, 177, 141, 256, 151, 256, 191, 256, 176, 256, 181, 256, 190, 256, 161, 224, 177, 129, 32, 256, 133, 256, 178, 256, 190, 32, 256, 133, 256, 176, 256, 174, 256, 176, 256, 191, 256, 149, 32, 256, 178, 224, 177, 135, 256, 149, 224, 177, 129, 256, 130, 256, 161, 256, 190, 32, 256, 154, 256, 168, 224, 177, 129, 256, 181, 224, 177, 129, 256, 151, 256, 190, 32, 256, 170, 224, 177, 134, 256, 176, 256, 191, 256, 151, 224, 177, 135, 256, 181, 256, 190, 256, 161, 256, 190, 63, 34, 32, 256, 170, 224, 177, 129, 256, 159, 224, 177, 141, 256, 159, 224, 177, 134, 256, 161, 224, 177, 129, 32, 256, 166, 256, 191, 256, 151, 224, 177, 129, 256, 178, 224, 177, 129, 32, 256, 184, 224, 177, 129, 256, 182, 224, 177, 128, 256, 178, 256, 174, 224, 177, 141, 256, 174, 32, 256, 149, 256, 130, 256, 160, 256, 130, 256, 178, 224, 177, 139, 32, 256, 170, 256, 178, 256, 191, 256, 149, 256, 191, 256, 130, 256, 166, 256, 191, 46, 10, 194, 160, 194, 160, 32, 194, 160, 34, 256, 133, 256, 166, 256, 191, 32, 256, 174, 256, 168, 256, 130, 32, 256, 170, 224, 177, 134, 256, 130, 256, 154, 224, 177, 135, 256, 166, 256, 190, 256, 168, 224, 177, 141, 256, 168, 256, 191, 32, 256, 172, 256, 159, 224, 177, 141, 256, 159, 256, 191, 32, 256, 181, 224, 177, 129, 256, 130, 256, 159, 224, 177, 129, 256, 130, 256, 166, 256, 191, 46, 32, 256, 133, 256, 159, 224, 177, 129, 256, 181, 256, 130, 256, 159, 256, 191, 32, 256, 172, 224, 177, 135, 256, 167, 256, 190, 256, 178, 224, 177, 129, 32, 256, 174, 256, 168, 256, 178, 224, 177, 139, 32, 256, 178, 224, 177, 135, 256, 168, 256, 159, 224, 177, 141, 256, 159, 224, 177, 129, 32, 256, 164, 224, 177, 134, 256, 178, 224, 177, 129, 256, 184, 224, 177, 129, 256, 149, 224, 177, 138, 256, 168, 224, 177, 135, 256, 178, 256, 190, 32, 256, 170, 224, 177, 134, 256, 130, 256, 154, 256, 190, 256, 178, 256, 191, 46, 34, 10, 194, 160, 194, 160, 32, 194, 160, 34, 256, 154, 256, 190, 256, 178, 256, 190, 256, 174, 256, 130, 256, 166, 256, 191, 32, 256, 133, 256, 178, 256, 190, 256, 151, 224, 177, 135, 32, 256, 170, 224, 177, 134, 256, 130, 256, 154, 224, 177, 129, 256, 164, 256, 190, 256, 176, 224, 177, 129, 32, 256, 151, 256, 166, 256, 130, 256, 161, 224, 177, 128, 46, 34, 10, 194, 160, 194, 160, 32, 194, 160, 34, 256, 143, 256, 168, 256, 190, 256, 161, 224, 177, 139, 32, 256, 146, 256, 149, 256, 168, 256, 190, 256, 161, 224, 177, 129, 32, 256, 134, 32, 256, 181, 256, 191, 256, 183, 256, 175, 256, 130, 32, 256, 164, 224, 177, 134, 256, 178, 256, 191, 256, 175, 256, 149, 256, 170, 224, 177, 139, 256, 166, 224, 177, 129, 46, 32, 256, 174, 256, 168, 256, 130, 32, 256, 170, 256, 159, 224, 177, 141, 256, 168, 256, 130, 256, 178, 224, 177, 139, 32, 256, 181, 224, 177, 129, 256, 130, 256, 159, 224, 177, 129, 256, 168, 224, 177, 141, 256, 168, 256, 190, 256, 130, 32, 256, 151, 256, 168, 256, 149, 32, 256, 175, 256, 191, 256, 130, 256, 164, 32, 256, 149, 256, 190, 256, 178, 256, 174, 256, 175, 256, 191, 256, 168, 256, 190, 32, 256, 136, 32, 256, 176, 256, 185, 256, 184, 224, 177, 141, 256, 175, 256, 190, 256, 168, 224, 177, 141, 256, 168, 256, 191, 32, 256, 166, 256, 190, 256, 154, 256, 151, 256, 178, 256, 191, 256, 151, 256, 190, 256, 130, 46, 10, 194, 160, 194, 160, 32, 194, 160, 256, 184, 224, 177, 129, 256, 182, 224, 177, 128, 256, 178, 256, 174, 224, 177, 141, 256, 174, 32, 256, 181, 256, 191, 256, 130, 256, 159, 224, 177, 130, 32, 256, 149, 224, 177, 130, 256, 176, 224, 177, 141, 256, 154, 224, 177, 129, 256, 130, 256, 166, 256, 191, 46, 10, 194, 160, 194, 160, 32, 194, 160, 34, 256, 146, 256, 149, 32, 256, 181, 224, 177, 141, 256, 175, 256, 149, 224, 177, 141, 256, 164, 256, 191, 256, 164, 224, 177, 141, 256, 181, 256, 130, 32, 256, 133, 256, 130, 256, 159, 224, 177, 130, 32, 256, 143, 256, 176, 224, 177, 141, 256, 170, 256, 161, 224, 177, 141, 256, 161, 256, 190, 256, 149, 32, 256, 134, 32, 256, 176, 256, 185, 256, 184, 224, 177, 141, 256, 175, 256, 130, 32, 256, 164, 224, 177, 134, 256, 178, 256, 191, 256, 184, 224, 177, 141, 256, 164, 224, 177, 135, 32, 256, 178, 224, 177, 139, 256, 164, 224, 177, 129, 256, 151, 256, 190, 32, 256, 151, 256, 190, 256, 175, 256, 170, 256, 161, 256, 164, 256, 190, 256, 176, 224, 177, 129, 46, 32, 256, 133, 256, 168, 224, 177, 135, 256, 149, 32, 256, 134, 256, 178, 224, 177, 139, 256, 154, 256, 168, 256, 178, 224, 177, 129, 32, 256, 181, 256, 184, 224, 177, 141, 256, 164, 256, 190, 256, 175, 256, 191, 46, 32, 256, 154, 256, 191, 256, 168, 224, 177, 141, 256, 168, 256, 170, 224, 177, 141, 256, 170, 224, 177, 129, 256, 161, 224, 177, 135, 32, 256, 164, 224, 177, 134, 256, 178, 256, 191, 256, 184, 224, 177, 141, 256, 164, 224, 177, 135, 32, 256, 133, 256, 130, 256, 164, 256, 151, 256, 190, 32, 256, 164, 256, 178, 256, 149, 224, 177, 141, 256, 176, 256, 191, 256, 130, 256, 166, 224, 177, 129, 256, 178, 224, 177, 136, 32, 256, 170, 224, 177, 139, 256, 176, 224, 177, 129, 34, 32, 256, 133, 256, 168, 224, 177, 141, 256, 168, 256, 190, 256, 161, 224, 177, 129, 46, 32, 194, 160, 10, 194, 160, 194, 160, 32, 194, 160, 34, 256, 181, 256, 190, 256, 161, 224, 177, 129, 32, 256, 174, 256, 168, 256, 178, 224, 177, 141, 256, 168, 256, 191, 32, 256, 181, 256, 166, 256, 191, 256, 178, 224, 177, 135, 256, 184, 256, 191, 32, 256, 181, 224, 177, 134, 256, 179, 224, 177, 141, 256, 179, 256, 191, 256, 170, 224, 177, 139, 256, 164, 256, 190, 256, 161, 224, 177, 135, 256, 174, 224, 177, 139, 33, 34, 32, 256, 133, 256, 168, 256, 178, 224, 177, 135, 256, 149, 32, 256, 133, 256, 130, 256, 159, 224, 177, 129, 256, 168, 224, 177, 141, 256, 168, 32, 256, 134, 256, 174, 224, 177, 134, 32, 256, 151, 224, 177, 138, 256, 130, 256, 164, 224, 177, 129, 256, 178, 224, 177, 139, 32, 256, 143, 256, 166, 224, 177, 139, 32, 256, 133, 256, 161, 224, 177, 141, 256, 161, 224, 177, 129, 256, 170, 256, 161, 256, 191, 256, 168, 256, 159, 224, 177, 141, 256, 159, 224, 177, 129, 32, 256, 137, 256, 149, 224, 177, 141, 256, 149, 256, 191, 256, 176, 256, 191, 256, 172, 256, 191, 256, 149, 224, 177, 141, 256, 149, 256, 191, 256, 176, 256, 191, 32, 256, 133, 256, 175, 256, 191, 256, 170, 224, 177, 139, 256, 164, 224, 177, 129, 256, 130, 256, 166, 256, 191, 46, 10, 194, 160, 194, 160, 32, 194, 160, 256, 176, 256, 190, 256, 174, 256, 168, 256, 190, 256, 165, 256, 190, 256, 168, 256, 191, 256, 149, 256, 191, 32, 256, 149, 224, 177, 130, 256, 161, 256, 190, 32, 256, 134, 32, 256, 173, 256, 175, 256, 130, 32, 256, 178, 224, 177, 135, 256, 149, 256, 170, 224, 177, 139, 256, 178, 224, 177, 135, 256, 166, 224, 177, 129, 46, 10, 194, 160, 194, 160, 32, 194, 160, 256, 134, 32, 256, 173, 256, 175, 256, 190, 256, 168, 224, 177, 141, 256, 168, 256, 191, 32, 256, 166, 256, 190, 256, 154, 224, 177, 129, 256, 149, 224, 177, 129, 256, 130, 256, 159, 224, 177, 130, 32, 256, 181, 224, 177, 134, 256, 179, 224, 177, 141, 256, 179, 256, 161, 224, 177, 129, 46, 32, 256, 142, 256, 178, 256, 190, 32, 256, 181, 224, 177, 134, 256, 179, 256, 164, 256, 190, 256, 161, 224, 177, 129, 63, 32, 256, 142, 256, 149, 224, 177, 141, 256, 149, 256, 161, 256, 191, 256, 149, 256, 191, 32, 256, 181, 224, 177, 134, 256, 179, 256, 164, 256, 190, 256, 161, 224, 177, 129, 63, 32, 256, 133, 256, 184, 256, 178, 224, 177, 129, 32, 256, 142, 256, 130, 256, 166, 224, 177, 129, 256, 149, 224, 177, 129, 32, 256, 181, 224, 177, 134, 256, 179, 224, 177, 141, 256, 179, 256, 190, 256, 178, 256, 191, 63, 32, 256, 181, 256, 190, 256, 161, 256, 191, 256, 149, 256, 191, 32, 256, 174, 256, 168, 256, 174, 224, 177, 135, 256, 130, 32, 256, 164, 256, 149, 224, 177, 141, 256, 149, 224, 177, 129, 256, 181, 32, 256, 154, 224, 177, 135, 256, 182, 256, 190, 256, 174, 256, 168, 256, 191, 32, 256, 181, 224, 177, 134, 256, 179, 224, 177, 141, 256, 164, 256, 190, 256, 161, 224, 177, 129, 63, 34, 32, 256, 133, 256, 168, 224, 177, 141, 256, 168, 256, 190, 256, 161, 224, 177, 129, 46, 10, 194, 160, 194, 160, 32, 194, 160, 256, 184, 224, 177, 129, 256, 182, 224, 177, 128, 256, 178, 256, 174, 224, 177, 141, 256, 174, 256, 149, 224, 177, 129, 32, 256, 142, 256, 149, 224, 177, 141, 256, 149, 256, 161, 256, 191, 256, 149, 224, 177, 139, 32, 256, 178, 224, 177, 139, 256, 164, 224, 177, 129, 32, 256, 164, 224, 177, 134, 256, 178, 256, 191, 256, 175, 256, 168, 256, 191, 32, 256, 133, 256, 151, 256, 190, 256, 167, 256, 130, 256, 178, 224, 177, 139, 256, 149, 256, 191, 32, 256, 170, 256, 161, 224, 177, 129, 256, 164, 224, 177, 129, 256, 168, 224, 177, 141, 256, 168, 32, 256, 181, 224, 177, 141, 256, 175, 256, 149, 224, 177, 141, 256, 164, 256, 191, 256, 149, 256, 191, 32, 256, 156, 256, 190, 256, 176, 224, 177, 129, 256, 161, 224, 177, 129, 256, 174, 224, 177, 134, 256, 159, 224, 177, 141, 256, 178, 224, 177, 129, 32, 256, 154, 224, 177, 135, 256, 164, 256, 191, 256, 149, 256, 191, 32, 256, 133, 256, 130, 256, 166, 256, 191, 256, 168, 256, 159, 224, 177, 141, 256, 159, 224, 177, 129, 32, 256, 133, 256, 168, 256, 191, 256, 170, 256, 191, 256, 130, 256, 154, 256, 191, 256, 130, 256, 166, 256, 191, 46, 194, 160, 32, 194, 160, 10, 194, 160, 194, 160, 32, 194, 160, 34, 256, 181, 256, 190, 256, 161, 224, 177, 129, 32, 256, 181, 224, 177, 134, 256, 179, 224, 177, 141, 256, 179, 256, 191, 256, 170, 224, 177, 139, 256, 161, 256, 130, 256, 159, 256, 190, 256, 176, 256, 190, 63, 34, 32, 256, 154, 224, 177, 135, 256, 164, 256, 191, 256, 149, 256, 130, 256, 166, 256, 191, 256, 168, 32, 256, 156, 256, 190, 256, 176, 224, 177, 129, 256, 161, 224, 177, 129, 256, 174, 224, 177, 134, 256, 159, 224, 177, 141, 256, 159, 224, 177, 129, 256, 168, 224, 177, 129, 32, 256, 170, 256, 159, 224, 177, 141, 256, 159, 224, 177, 129, 256, 149, 224, 177, 139, 256, 181, 256, 161, 256, 190, 256, 168, 256, 191, 256, 149, 256, 191, 32, 256, 170, 224, 177, 141, 256, 176, 256, 175, 256, 164, 224, 177, 141, 256, 168, 256, 191, 256, 184, 224, 177, 141, 256, 164, 224, 177, 129, 256, 168, 224, 177, 141, 256, 168, 256, 159, 224, 177, 141, 256, 159, 224, 177, 129, 32, 256, 133, 256, 168, 224, 177, 141, 256, 168, 256, 166, 256, 191, 46, 10, 194, 160, 194, 160, 32, 194, 160, 34, 256, 170, 256, 191, 256, 154, 224, 177, 141, 256, 154, 256, 191, 256, 166, 256, 190, 256, 168, 256, 190, 33, 32, 256, 181, 256, 190, 256, 161, 224, 177, 134, 256, 149, 224, 177, 141, 256, 149, 256, 161, 256, 191, 32, 256, 149, 224, 177, 134, 256, 178, 224, 177, 141, 256, 164, 256, 190, 256, 161, 224, 177, 135, 63, 32, 256, 181, 256, 190, 256, 161, 224, 177, 129, 32, 256, 142, 256, 170, 224, 177, 141, 256, 170, 256, 159, 256, 191, 256, 149, 224, 177, 128, 32, 256, 184, 224, 177, 129, 256, 182, 224, 177, 128, 256, 178, 256, 174, 224, 177, 141, 256, 174, 32, 256, 149, 224, 177, 138, 256, 161, 224, 177, 129, 256, 149, 224, 177, 135, 46, 10, 194, 160, 194, 160, 32, 194, 160, 34, 256, 168, 224, 177, 135, 256, 168, 224, 177, 129, 32, 256, 184, 224, 177, 129, 256, 182, 224, 177, 128, 256, 178, 256, 174, 224, 177, 141, 256, 174, 32, 256, 149, 224, 177, 138, 256, 161, 224, 177, 129, 256, 149, 224, 177, 129, 256, 168, 224, 177, 135, 33, 34, 32, 256, 133, 256, 168, 224, 177, 141, 256, 168, 32, 256, 182, 256, 176, 256, 164, 224, 177, 141, 194, 160, 32, 256, 172, 256, 190, 256, 172, 224, 177, 129, 32, 256, 174, 256, 190, 256, 159, 256, 178, 224, 177, 141, 256, 168, 256, 191, 32, 256, 151, 224, 177, 129, 256, 176, 224, 177, 141, 256, 164, 224, 177, 129, 32, 256, 154, 224, 177, 135, 256, 184, 224, 177, 129, 256, 149, 224, 177, 129, 256, 130, 256, 159, 224, 177, 130, 32, 256, 133, 256, 168, 224, 177, 141, 256, 168, 256, 190, 256, 161, 224, 177, 129, 32, 256, 176, 256, 190, 256, 174, 256, 168, 256, 190, 256, 165, 256, 130, 46, 10, 194, 160, 194, 160, 32, 194, 160, 256, 133, 256, 151, 256, 190, 256, 167, 256, 130, 256, 178, 224, 177, 139, 256, 149, 256, 191, 32, 256, 170, 256, 161, 256, 191, 256, 170, 224, 177, 139, 256, 164, 224, 177, 129, 256, 168, 224, 177, 141, 256, 168, 32, 256, 184, 224, 177, 129, 256, 182, 224, 177, 128, 256, 178, 256, 174, 224, 177, 141, 256, 174, 32, 256, 154, 224, 177, 135, 256, 164, 256, 191, 256, 149, 256, 191, 32, 256, 174, 224, 177, 134, 256, 159, 224, 177, 141, 256, 159, 224, 177, 129, 32, 256, 146, 256, 161, 224, 177, 129, 256, 170, 224, 177, 129, 256, 151, 256, 190, 32, 256, 166, 224, 177, 138, 256, 176, 256, 191, 256, 149, 256, 191, 256, 168, 256, 159, 224, 177, 141, 256, 159, 224, 177, 129, 32, 256, 133, 256, 168, 256, 191, 256, 170, 256, 191, 256, 130, 256, 154, 256, 191, 256, 130, 256, 166, 256, 191, 46, 10, 194, 160, 194, 160, 32, 194, 160, 34, 256, 168, 256, 191, 256, 156, 256, 130, 256, 151, 256, 190, 256, 168, 256, 190, 63, 32, 256, 181, 256, 190, 256, 161, 224, 177, 129, 32, 256, 181, 224, 177, 134, 256, 179, 224, 177, 141, 256, 179, 256, 191, 256, 170, 224, 177, 139, 256, 164, 224, 177, 135, 32, 256, 168, 224, 177, 135, 256, 168, 224, 177, 129, 32, 256, 172, 256, 164, 256, 149, 256, 168, 256, 130, 256, 161, 224, 177, 128, 34, 32, 256, 149, 256, 130, 256, 160, 256, 130, 32, 256, 176, 224, 177, 129, 256, 166, 224, 177, 141, 256, 166, 256, 174, 256, 175, 256, 191, 256, 130, 256, 166, 256, 191, 46, 10, 194, 160, 194, 160, 32, 194, 160, 34, 256, 155, 33, 32, 256, 143, 256, 130, 32, 256, 174, 256, 190, 256, 159, 256, 178, 256, 181, 256, 191, 63, 32, 256, 168, 256, 190, 32, 256, 181, 256, 178, 224, 177, 141, 256, 178, 256, 168, 224, 177, 135, 32, 256, 136, 32, 256, 133, 256, 168, 256, 176, 224, 177, 141, 256, 165, 256, 130, 32, 256, 143, 256, 176, 224, 177, 141, 256, 170, 256, 161, 256, 191, 256, 130, 256, 166, 256, 191, 46, 32, 256, 168, 224, 177, 129, 256, 181, 224, 177, 141, 256, 181, 224, 177, 129, 32, 256, 181, 256, 190, 256, 161, 256, 191, 256, 149, 256, 191, 32, 256, 164, 256, 178, 224, 177, 141, 256, 178, 256, 191, 256, 181, 256, 191, 32, 256, 149, 256, 190, 256, 151, 256, 178, 256, 191, 256, 151, 256, 190, 256, 181, 224, 177, 129, 32, 256, 149, 256, 190, 256, 168, 256, 191, 32, 256, 168, 224, 177, 135, 256, 168, 224, 177, 129, 32, 256, 164, 256, 130, 256, 161, 224, 177, 141, 256, 176, 256, 191, 256, 168, 256, 191, 32, 256, 149, 256, 190, 256, 178, 224, 177, 135, 256, 149, 256, 170, 224, 177, 139, 256, 175, 256, 190, 256, 168, 224, 177, 129, 34, 32, 256, 151, 256, 166, 224, 177, 141, 256, 151, 256, 166, 32, 256, 149, 256, 130, 256, 160, 256, 130, 256, 164, 224, 177, 139, 32, 256, 133, 256, 168, 224, 177, 141, 256, 168, 256, 190, 256, 161, 224, 177, 129, 32, 256, 176, 256, 190, 256, 174, 256, 168, 256, 190, 256, 165, 256, 130, 46, 10, 194, 160, 194, 160, 32, 194, 160, 34, 256, 133, 256, 178, 256, 190, 32, 256, 133, 256, 168, 256, 149, 256, 130, 256, 161, 256, 191, 46, 32, 256, 174, 224, 177, 128, 256, 149, 224, 177, 130, 32, 256, 181, 256, 190, 256, 161, 256, 191, 32, 256, 174, 224, 177, 128, 256, 166, 32, 256, 170, 224, 177, 141, 256, 176, 224, 177, 135, 256, 174, 32, 256, 181, 224, 177, 129, 256, 130, 256, 166, 256, 191, 46, 32, 256, 133, 256, 166, 256, 191, 32, 256, 168, 256, 190, 256, 149, 224, 177, 129, 32, 256, 164, 224, 177, 134, 256, 178, 224, 177, 129, 256, 184, 224, 177, 129, 46, 32, 256, 168, 256, 191, 256, 156, 256, 130, 32, 256, 154, 224, 177, 134, 256, 170, 224, 177, 141, 256, 170, 256, 130, 256, 161, 256, 191, 46, 32, 256, 181, 256, 190, 256, 161, 224, 177, 129, 32, 256, 143, 256, 130, 32, 256, 154, 224, 177, 135, 256, 184, 224, 177, 141, 256, 164, 256, 190, 256, 161, 224, 177, 139, 256, 168, 256, 168, 256, 191, 32, 256, 174, 224, 177, 128, 256, 149, 224, 177, 129, 32, 256, 174, 256, 190, 256, 164, 224, 177, 141, 256, 176, 256, 130, 32, 256, 173, 256, 175, 256, 130, 256, 151, 256, 190, 32, 256, 178, 224, 177, 135, 256, 166, 224, 177, 130, 33, 34, 32, 194, 160, 10, 194, 160, 194, 160, 32, 194, 160, 256, 176, 256, 190, 256, 174, 256, 168, 256, 190, 256, 165, 256, 130, 32, 256, 149, 256, 179, 224, 177, 141, 256, 179, 256, 178, 224, 177, 139, 32, 256, 168, 224, 177, 128, 256, 176, 224, 177, 129, 32, 256, 164, 256, 191, 256, 176, 256, 191, 256, 151, 256, 191, 256, 130, 256, 166, 256, 191, 46, 10, 194, 160, 194, 160, 32, 194, 160, 34, 256, 168, 256, 190, 256, 149, 224, 177, 129, 32, 256, 164, 224, 177, 134, 256, 178, 224, 177, 129, 256, 184, 224, 177, 129, 46, 32, 256, 181, 256, 190, 256, 161, 256, 130, 256, 159, 224, 177, 135, 32, 256, 174, 224, 177, 128, 256, 149, 224, 177, 130, 32, 256, 135, 256, 183, 224, 177, 141, 256, 159, 256, 174, 224, 177, 135, 46, 32, 256, 174, 224, 177, 128, 256, 176, 224, 177, 130, 32, 256, 172, 256, 190, 256, 167, 256, 170, 256, 161, 224, 177, 129, 256, 164, 224, 177, 130, 256, 168, 224, 177, 135, 32, 256, 181, 224, 177, 129, 256, 168, 224, 177, 141, 256, 168, 256, 190, 256, 176, 224, 177, 129, 46, 34, 10, 194, 160, 194, 160, 32, 194, 160, 34, 256, 181, 256, 190, 256, 161, 224, 177, 129, 32, 256, 142, 256, 149, 224, 177, 141, 256, 149, 256, 161, 256, 191, 256, 149, 224, 177, 134, 256, 179, 224, 177, 141, 256, 179, 256, 161, 224, 177, 130, 63, 34, 32, 256, 174, 256, 190, 256, 159, 32, 256, 174, 256, 190, 256, 176, 224, 177, 141, 256, 154, 224, 177, 135, 32, 256, 137, 256, 166, 224, 177, 141, 256, 166, 224, 177, 135, 256, 182, 256, 130, 256, 164, 224, 177, 139, 32, 256, 133, 256, 168, 224, 177, 141, 256, 168, 256, 190, 256, 161, 224, 177, 129, 32, 256, 176, 256, 190, 256, 174, 256, 168, 256, 190, 256, 165, 256, 130, 46, 10, 194, 160, 194, 160, 32, 194, 160, 34, 256, 143, 256, 174, 224, 177, 139, 32, 256, 164, 224, 177, 134, 256, 178, 256, 191, 256, 175, 256, 166, 224, 177, 129, 46, 32, 256, 170, 256, 191, 256, 154, 224, 177, 141, 256, 154, 256, 191, 32, 256, 184, 256, 168, 224, 177, 141, 256, 168, 256, 190, 256, 184, 256, 191, 33, 32, 256, 181, 256, 190, 256, 161, 224, 177, 130, 32, 256, 168, 256, 190, 32, 256, 151, 224, 177, 129, 256, 176, 256, 191, 256, 130, 256, 154, 256, 191, 32, 256, 172, 256, 190, 256, 167, 256, 170, 256, 161, 224, 177, 129, 256, 164, 224, 177, 129, 256, 168, 224, 177, 141, 256, 168, 256, 190, 256, 161, 256, 130, 256, 161, 224, 177, 128, 32, 256, 170, 224, 177, 138, 256, 166, 224, 177, 141, 256, 166, 224, 177, 129, 256, 168, 224, 177, 141, 256, 168, 224, 177, 135, 32, 256, 149, 256, 178, 256, 181, 256, 176, 256, 191, 256, 184, 224, 177, 141, 256, 164, 224, 177, 129, 256, 168, 224, 177, 141, 256, 168, 256, 190, 256, 161, 224, 177, 129, 46, 32, 34, 256, 133, 256, 174, 224, 177, 141, 256, 174, 256, 190, 33, 34, 32, 256, 133, 256, 130, 256, 159, 224, 177, 130, 32, 256, 170, 256, 191, 256, 154, 224, 177, 141, 256, 154, 256, 191, 256, 149, 224, 177, 135, 256, 149, 32, 256, 181, 224, 177, 135, 256, 182, 256, 190, 256, 161, 224, 177, 129, 46, 32, 256, 168, 256, 190, 256, 174, 224, 177, 128, 256, 166, 32, 256, 143, 256, 166, 224, 177, 139, 32, 256, 170, 224, 177, 128, 256, 161, 256, 149, 256, 178, 32, 256, 181, 256, 154, 224, 177, 141, 256, 154, 256, 191, 256, 130, 256, 166, 256, 159, 33, 34, 10, 194, 160, 194, 160, 32, 194, 160, 34, 256, 168, 224, 177, 135, 256, 168, 224, 177, 129, 32, 256, 154, 224, 177, 134, 256, 170, 224, 177, 141, 256, 170, 256, 178, 256, 190, 63, 32, 256, 181, 256, 190, 256, 161, 224, 177, 129, 32, 256, 168, 256, 191, 256, 168, 224, 177, 141, 256, 168, 224, 177, 129, 32, 256, 181, 256, 166, 256, 191, 256, 178, 256, 191, 32, 256, 142]\n",
            "length: 4028 5226\n"
          ]
        }
      ]
    },
    {
      "cell_type": "code",
      "source": [
        "def get_stats(ids):\n",
        "    counts = {}\n",
        "    for pair in zip(ids, ids[1:]):\n",
        "        counts[pair] = counts.get(pair, 0) + 1\n",
        "    return counts\n",
        "\n",
        "def merge(ids, pair, idx):\n",
        "  newids = []\n",
        "  i = 0\n",
        "  while i < len(ids):\n",
        "    if i < len(ids) - 1 and ids[i] == pair[0] and ids[i+1] == pair[1]:\n",
        "      newids.append(idx)\n",
        "      i += 2\n",
        "    else:\n",
        "      newids.append(ids[i])\n",
        "      i += 1\n",
        "  return newids\n"
      ],
      "metadata": {
        "colab": {
          "base_uri": "https://localhost:8080/",
          "height": 17
        },
        "id": "_rouzqtqh9XQ",
        "outputId": "712e1b01-e806-4857-bd95-3515a1b3c6b4"
      },
      "execution_count": 46,
      "outputs": [
        {
          "output_type": "display_data",
          "data": {
            "text/plain": [
              "<IPython.core.display.HTML object>"
            ],
            "text/html": [
              "\n",
              "  <style>\n",
              "    pre {\n",
              "        white-space: pre-wrap;\n",
              "    }\n",
              "  </style>\n",
              "  "
            ]
          },
          "metadata": {}
        }
      ]
    },
    {
      "cell_type": "code",
      "source": [
        "# ---\n",
        "vocab_size = 276 # the desired final vocabulary size\n",
        "num_merges = vocab_size - 256\n",
        "ids = list(tokens) # copy so we don't destroy the original list\n",
        "\n",
        "merges = {} # (int, int) -> int\n",
        "for i in range(num_merges):\n",
        "  stats = get_stats(ids)\n",
        "  pair = max(stats, key=stats.get)\n",
        "  idx = 256 + i\n",
        "  print(f\"merging {pair} into a new token {idx}\")\n",
        "  ids = merge(ids, pair, idx)\n",
        "  merges[pair] = idx"
      ],
      "metadata": {
        "colab": {
          "base_uri": "https://localhost:8080/",
          "height": 374
        },
        "id": "BgTo99vRiEtH",
        "outputId": "c7a1d063-dba8-498e-9a73-c4cd395184fd"
      },
      "execution_count": 47,
      "outputs": [
        {
          "output_type": "display_data",
          "data": {
            "text/plain": [
              "<IPython.core.display.HTML object>"
            ],
            "text/html": [
              "\n",
              "  <style>\n",
              "    pre {\n",
              "        white-space: pre-wrap;\n",
              "    }\n",
              "  </style>\n",
              "  "
            ]
          },
          "metadata": {}
        },
        {
          "output_type": "stream",
          "name": "stdout",
          "text": [
            "merging (224, 176) into a new token 256\n",
            "merging (224, 177) into a new token 257\n",
            "merging (32, 256) into a new token 258\n",
            "merging (256, 191) into a new token 259\n",
            "merging (257, 129) into a new token 260\n",
            "merging (256, 190) into a new token 261\n",
            "merging (257, 141) into a new token 262\n",
            "merging (262, 256) into a new token 263\n",
            "merging (261, 256) into a new token 264\n",
            "merging (259, 256) into a new token 265\n",
            "merging (194, 160) into a new token 266\n",
            "merging (260, 256) into a new token 267\n",
            "merging (130, 256) into a new token 268\n",
            "merging (256, 168) into a new token 269\n",
            "merging (257, 135) into a new token 270\n",
            "merging (256, 178) into a new token 271\n",
            "merging (260, 258) into a new token 272\n",
            "merging (259, 258) into a new token 273\n",
            "merging (264, 161) into a new token 274\n",
            "merging (256, 268) into a new token 275\n"
          ]
        }
      ]
    },
    {
      "cell_type": "code",
      "source": [
        "print(\"tokens length:\", len(tokens))\n",
        "print(\"ids length:\", len(ids))\n",
        "print(f\"compression ratio: {len(tokens) / len(ids):.2f}X\")"
      ],
      "metadata": {
        "colab": {
          "base_uri": "https://localhost:8080/",
          "height": 71
        },
        "id": "HBncsWvBiUdS",
        "outputId": "4ae42925-0b86-4835-91a2-6335de7235bd"
      },
      "execution_count": 48,
      "outputs": [
        {
          "output_type": "display_data",
          "data": {
            "text/plain": [
              "<IPython.core.display.HTML object>"
            ],
            "text/html": [
              "\n",
              "  <style>\n",
              "    pre {\n",
              "        white-space: pre-wrap;\n",
              "    }\n",
              "  </style>\n",
              "  "
            ]
          },
          "metadata": {}
        },
        {
          "output_type": "stream",
          "name": "stdout",
          "text": [
            "tokens length: 5226\n",
            "ids length: 2216\n",
            "compression ratio: 2.36X\n"
          ]
        }
      ]
    },
    {
      "cell_type": "code",
      "source": [
        "def get_stats(ids):\n",
        "    counts = {}\n",
        "    for pair in zip(ids, ids[1:]):\n",
        "        counts[pair] = counts.get(pair, 0) + 1\n",
        "    return counts\n",
        "\n",
        "def merge(ids, pair, idx):\n",
        "  newids = []\n",
        "  i = 0\n",
        "  while i < len(ids):\n",
        "    if i < len(ids) - 1 and ids[i] == pair[0] and ids[i+1] == pair[1]:\n",
        "      newids.append(idx)\n",
        "      i += 2\n",
        "    else:\n",
        "      newids.append(ids[i])\n",
        "      i += 1\n",
        "  return newids\n",
        "\n",
        "# ---\n",
        "vocab_size = 1000 # the desired final vocabulary size\n",
        "num_merges = vocab_size - 256\n",
        "ids = list(tokens) # copy so we don't destroy the original list\n",
        "\n",
        "merges = {} # (int, int) -> int\n",
        "for i in range(num_merges):\n",
        "  stats = get_stats(ids)\n",
        "  pair = max(stats, key=stats.get)\n",
        "  idx = 256 + i\n",
        "  # print(f\"merging {pair} into a new token {idx}\")\n",
        "  ids = merge(ids, pair, idx)\n",
        "  merges[pair] = idx\n",
        "\n",
        "print(\"tokens length:\", len(tokens))\n",
        "print(\"ids length:\", len(ids))\n",
        "print(f\"compression ratio: {len(tokens) / len(ids):.2f}X\")"
      ],
      "metadata": {
        "colab": {
          "base_uri": "https://localhost:8080/",
          "height": 71
        },
        "id": "-2VRkxrNidsd",
        "outputId": "56055689-59df-4eb9-9c16-29807cecd17d"
      },
      "execution_count": 49,
      "outputs": [
        {
          "output_type": "display_data",
          "data": {
            "text/plain": [
              "<IPython.core.display.HTML object>"
            ],
            "text/html": [
              "\n",
              "  <style>\n",
              "    pre {\n",
              "        white-space: pre-wrap;\n",
              "    }\n",
              "  </style>\n",
              "  "
            ]
          },
          "metadata": {}
        },
        {
          "output_type": "stream",
          "name": "stdout",
          "text": [
            "tokens length: 5226\n",
            "ids length: 297\n",
            "compression ratio: 17.60X\n"
          ]
        }
      ]
    },
    {
      "cell_type": "markdown",
      "source": [
        "Note, the Tokenizer is a completely separate, independent module from the LLM. It has its own training dataset of text (which could be different from that of the LLM), on which you train the vocabulary using the Byte Pair Encoding (BPE) algorithm. It then translates back and forth between raw text and sequences of tokens. The LLM later only ever sees the tokens and never directly deals with any text.\n",
        "![Screenshot 2024-02-14 at 8.23.33 AM.png](data:image/png;base64,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)"
      ],
      "metadata": {
        "id": "3y1-LLu2is1h"
      }
    },
    {
      "cell_type": "code",
      "source": [
        "vocab = {idx: bytes([idx]) for idx in range(256)}\n",
        "for (p0, p1), idx in merges.items():\n",
        "    vocab[idx] = vocab[p0] + vocab[p1]\n",
        "\n",
        "def decode(ids):\n",
        "  # given ids (list of integers), return Python string\n",
        "  tokens = b\"\".join(vocab[idx] for idx in ids)\n",
        "  text = tokens.decode(\"utf-8\", errors=\"replace\")\n",
        "  return text\n",
        "\n",
        "print(decode([146]))"
      ],
      "metadata": {
        "colab": {
          "base_uri": "https://localhost:8080/",
          "height": 35
        },
        "id": "wD6fimETisrc",
        "outputId": "e988531e-f03b-479b-acee-40394d51455e"
      },
      "execution_count": 51,
      "outputs": [
        {
          "output_type": "display_data",
          "data": {
            "text/plain": [
              "<IPython.core.display.HTML object>"
            ],
            "text/html": [
              "\n",
              "  <style>\n",
              "    pre {\n",
              "        white-space: pre-wrap;\n",
              "    }\n",
              "  </style>\n",
              "  "
            ]
          },
          "metadata": {}
        },
        {
          "output_type": "stream",
          "name": "stdout",
          "text": [
            "�\n"
          ]
        }
      ]
    },
    {
      "cell_type": "code",
      "source": [
        "merges"
      ],
      "metadata": {
        "colab": {
          "base_uri": "https://localhost:8080/",
          "height": 1000
        },
        "id": "LrhniIryiobm",
        "outputId": "0f591912-8993-47d1-9099-775fc47d9816"
      },
      "execution_count": 52,
      "outputs": [
        {
          "output_type": "display_data",
          "data": {
            "text/plain": [
              "<IPython.core.display.HTML object>"
            ],
            "text/html": [
              "\n",
              "  <style>\n",
              "    pre {\n",
              "        white-space: pre-wrap;\n",
              "    }\n",
              "  </style>\n",
              "  "
            ]
          },
          "metadata": {}
        },
        {
          "output_type": "execute_result",
          "data": {
            "text/plain": [
              "{(224, 176): 256,\n",
              " (224, 177): 257,\n",
              " (32, 256): 258,\n",
              " (256, 191): 259,\n",
              " (257, 129): 260,\n",
              " (256, 190): 261,\n",
              " (257, 141): 262,\n",
              " (262, 256): 263,\n",
              " (261, 256): 264,\n",
              " (259, 256): 265,\n",
              " (194, 160): 266,\n",
              " (260, 256): 267,\n",
              " (130, 256): 268,\n",
              " (256, 168): 269,\n",
              " (257, 135): 270,\n",
              " (256, 178): 271,\n",
              " (260, 258): 272,\n",
              " (259, 258): 273,\n",
              " (264, 161): 274,\n",
              " (256, 268): 275,\n",
              " (257, 134): 276,\n",
              " (257, 139): 277,\n",
              " (256, 149): 278,\n",
              " (263, 168): 279,\n",
              " (32, 266): 280,\n",
              " (130, 258): 281,\n",
              " (266, 280): 282,\n",
              " (10, 266): 283,\n",
              " (283, 282): 284,\n",
              " (256, 161): 285,\n",
              " (257, 128): 286,\n",
              " (256, 166): 287,\n",
              " (258, 181): 288,\n",
              " (258, 133): 289,\n",
              " (256, 174): 290,\n",
              " (265, 149): 291,\n",
              " (259, 46): 292,\n",
              " (284, 34): 293,\n",
              " (256, 281): 294,\n",
              " (168, 279): 295,\n",
              " (276, 256): 296,\n",
              " (256, 164): 297,\n",
              " (265, 268): 298,\n",
              " (256, 176): 299,\n",
              " (293, 256): 300,\n",
              " (263, 164): 301,\n",
              " (174, 269): 302,\n",
              " (274, 272): 303,\n",
              " (260, 46): 304,\n",
              " (166, 292): 305,\n",
              " (159, 263): 306,\n",
              " (256, 184): 307,\n",
              " (256, 175): 308,\n",
              " (289, 269): 309,\n",
              " (270, 258): 310,\n",
              " (276, 271): 311,\n",
              " (261, 258): 312,\n",
              " (306, 159): 313,\n",
              " (277, 258): 314,\n",
              " (256, 170): 315,\n",
              " (164, 311): 316,\n",
              " (267, 268): 317,\n",
              " (267, 295): 318,\n",
              " (257, 281): 319,\n",
              " (296, 179): 320,\n",
              " (290, 263): 321,\n",
              " (321, 174): 322,\n",
              " (263, 179): 323,\n",
              " (264, 176): 324,\n",
              " (291, 273): 325,\n",
              " (267, 182): 326,\n",
              " (326, 286): 327,\n",
              " (327, 271): 328,\n",
              " (328, 322): 329,\n",
              " (258, 149): 330,\n",
              " (298, 305): 331,\n",
              " (263, 170): 332,\n",
              " (154, 270): 333,\n",
              " (256, 313): 334,\n",
              " (267, 149): 335,\n",
              " (278, 263): 336,\n",
              " (181, 320): 337,\n",
              " (265, 170): 338,\n",
              " (316, 265): 339,\n",
              " (178, 270): 340,\n",
              " (275, 159): 341,\n",
              " (257, 138): 342,\n",
              " (275, 161): 343,\n",
              " (265, 168): 344,\n",
              " (151, 264): 345,\n",
              " (263, 154): 346,\n",
              " (277, 297): 347,\n",
              " (336, 149): 348,\n",
              " (264, 302): 349,\n",
              " (174, 286): 350,\n",
              " (133, 269): 351,\n",
              " (184, 301): 352,\n",
              " (256, 181): 353,\n",
              " (151, 312): 354,\n",
              " (258, 170): 355,\n",
              " (264, 178): 356,\n",
              " (334, 272): 357,\n",
              " (309, 279): 358,\n",
              " (337, 323): 359,\n",
              " (33, 34): 360,\n",
              " (349, 264): 361,\n",
              " (361, 165): 362,\n",
              " (264, 168): 363,\n",
              " (329, 330): 364,\n",
              " (173, 308): 365,\n",
              " (267, 161): 366,\n",
              " (265, 176): 367,\n",
              " (271, 261): 368,\n",
              " (267, 181): 369,\n",
              " (63, 34): 370,\n",
              " (275, 178): 371,\n",
              " (317, 159): 372,\n",
              " (317, 305): 373,\n",
              " (256, 159): 374,\n",
              " (275, 166): 375,\n",
              " (267, 164): 376,\n",
              " (304, 258): 377,\n",
              " (263, 175): 378,\n",
              " (130, 46): 379,\n",
              " (275, 164): 380,\n",
              " (338, 347): 381,\n",
              " (348, 285): 382,\n",
              " (63, 288): 383,\n",
              " (263, 176): 384,\n",
              " (154, 346): 385,\n",
              " (293, 269): 386,\n",
              " (270, 269): 387,\n",
              " (387, 272): 388,\n",
              " (174, 264): 389,\n",
              " (284, 307): 390,\n",
              " (271, 314): 391,\n",
              " (294, 170): 392,\n",
              " (331, 300): 393,\n",
              " (264, 167): 394,\n",
              " (263, 161): 395,\n",
              " (265, 295): 396,\n",
              " (315, 332): 397,\n",
              " (339, 352): 398,\n",
              " (340, 278): 399,\n",
              " (267, 354): 400,\n",
              " (265, 151): 401,\n",
              " (267, 178): 402,\n",
              " (184, 364): 403,\n",
              " (275, 160): 404,\n",
              " (276, 275): 405,\n",
              " (264, 295): 406,\n",
              " (406, 273): 407,\n",
              " (270, 256): 408,\n",
              " (316, 267): 409,\n",
              " (409, 184): 410,\n",
              " (34, 300): 411,\n",
              " (273, 133): 412,\n",
              " (151, 287): 413,\n",
              " (343, 286): 414,\n",
              " (339, 175): 415,\n",
              " (315, 277): 416,\n",
              " (371, 277): 417,\n",
              " (257, 268): 418,\n",
              " (264, 149): 419,\n",
              " (258, 134): 420,\n",
              " (315, 285): 421,\n",
              " (270, 278): 422,\n",
              " (272, 181): 423,\n",
              " (274, 304): 424,\n",
              " (181, 303): 425,\n",
              " (170, 285): 426,\n",
              " (344, 357): 427,\n",
              " (274, 260): 428,\n",
              " (142, 382): 429,\n",
              " (258, 333): 430,\n",
              " (174, 296): 431,\n",
              " (298, 154): 432,\n",
              " (265, 385): 433,\n",
              " (288, 274): 434,\n",
              " (273, 149): 435,\n",
              " (383, 303): 436,\n",
              " (389, 159): 437,\n",
              " (303, 176): 438,\n",
              " (438, 362): 439,\n",
              " (439, 256): 440,\n",
              " (440, 379): 441,\n",
              " (263, 166): 442,\n",
              " (350, 278): 443,\n",
              " (256, 179): 444,\n",
              " (444, 323): 445,\n",
              " (445, 391): 446,\n",
              " (258, 172): 447,\n",
              " (154, 396): 448,\n",
              " (448, 397): 449,\n",
              " (449, 366): 450,\n",
              " (450, 310): 451,\n",
              " (451, 398): 452,\n",
              " (256, 151): 453,\n",
              " (133, 368): 454,\n",
              " (299, 291): 455,\n",
              " (161, 312): 456,\n",
              " (154, 269): 457,\n",
              " (261, 370): 458,\n",
              " (314, 170): 459,\n",
              " (287, 273): 460,\n",
              " (302, 392): 461,\n",
              " (273, 181): 462,\n",
              " (373, 289): 463,\n",
              " (273, 172): 464,\n",
              " (170, 405): 465,\n",
              " (465, 154): 466,\n",
              " (264, 151): 467,\n",
              " (146, 278): 468,\n",
              " (290, 308): 469,\n",
              " (258, 176): 470,\n",
              " (470, 256): 471,\n",
              " (471, 185): 472,\n",
              " (472, 307): 473,\n",
              " (473, 378): 474,\n",
              " (407, 166): 475,\n",
              " (475, 264): 476,\n",
              " (476, 154): 477,\n",
              " (271, 265): 478,\n",
              " (478, 345): 479,\n",
              " (390, 329): 480,\n",
              " (149, 418): 481,\n",
              " (288, 378): 482,\n",
              " (482, 278): 483,\n",
              " (483, 301): 484,\n",
              " (263, 181): 485,\n",
              " (341, 319): 486,\n",
              " (143, 299): 487,\n",
              " (487, 332): 488,\n",
              " (488, 285): 489,\n",
              " (178, 347): 490,\n",
              " (324, 304): 491,\n",
              " (307, 301): 492,\n",
              " (292, 258): 493,\n",
              " (164, 271): 494,\n",
              " (298, 166): 495,\n",
              " (260, 34): 496,\n",
              " (358, 424): 497,\n",
              " (300, 425): 498,\n",
              " (271, 279): 499,\n",
              " (287, 265): 500,\n",
              " (359, 381): 501,\n",
              " (274, 270): 502,\n",
              " (143, 287): 503,\n",
              " (284, 299): 504,\n",
              " (504, 362): 505,\n",
              " (363, 325): 506,\n",
              " (134, 258): 507,\n",
              " (507, 365): 508,\n",
              " (399, 416): 509,\n",
              " (287, 304): 510,\n",
              " (284, 256): 511,\n",
              " (335, 372): 512,\n",
              " (512, 319): 513,\n",
              " (297, 428): 514,\n",
              " (514, 63): 515,\n",
              " (274, 325): 516,\n",
              " (290, 270): 517,\n",
              " (429, 291): 518,\n",
              " (256, 345): 519,\n",
              " (519, 167): 520,\n",
              " (520, 417): 521,\n",
              " (521, 278): 522,\n",
              " (522, 273): 523,\n",
              " (523, 426): 524,\n",
              " (376, 318): 525,\n",
              " (156, 324): 526,\n",
              " (526, 366): 527,\n",
              " (527, 267): 528,\n",
              " (528, 431): 529,\n",
              " (272, 333): 530,\n",
              " (297, 325): 531,\n",
              " (427, 351): 532,\n",
              " (532, 338): 533,\n",
              " (533, 432): 534,\n",
              " (534, 331): 535,\n",
              " (267, 168): 536,\n",
              " (265, 352): 537,\n",
              " (537, 318): 538,\n",
              " (351, 279): 539,\n",
              " (170, 433): 540,\n",
              " (33, 434): 541,\n",
              " (403, 342): 542,\n",
              " (542, 285): 543,\n",
              " (543, 335): 544,\n",
              " (386, 388): 545,\n",
              " (151, 267): 546,\n",
              " (546, 176): 547,\n",
              " (265, 156): 548,\n",
              " (168, 261): 549,\n",
              " (168, 388): 550,\n",
              " (330, 404): 551,\n",
              " (143, 294): 552,\n",
              " (271, 353): 553,\n",
              " (263, 178): 554,\n",
              " (380, 277): 555,\n",
              " (555, 358): 556,\n",
              " (556, 441): 557,\n",
              " (557, 300): 558,\n",
              " (443, 319): 559,\n",
              " (350, 287): 560,\n",
              " (419, 272): 561,\n",
              " (561, 410): 562,\n",
              " (377, 168): 563,\n",
              " (154, 296): 564,\n",
              " (564, 170): 565,\n",
              " (565, 332): 566,\n",
              " (257, 130): 567,\n",
              " (394, 421): 568,\n",
              " (287, 442): 569,\n",
              " (408, 182): 570,\n",
              " (390, 364): 571,\n",
              " (571, 446): 572,\n",
              " (572, 365): 573,\n",
              " (573, 392): 574,\n",
              " (574, 324): 575,\n",
              " (575, 274): 576,\n",
              " (576, 393): 577,\n",
              " (577, 351): 578,\n",
              " (578, 394): 579,\n",
              " (579, 447): 580,\n",
              " (580, 265): 581,\n",
              " (581, 161): 582,\n",
              " (582, 395): 583,\n",
              " (583, 309): 584,\n",
              " (584, 273): 585,\n",
              " (585, 452): 586,\n",
              " (586, 310): 587,\n",
              " (587, 302): 588,\n",
              " (588, 258): 589,\n",
              " (589, 166): 590,\n",
              " (590, 453): 591,\n",
              " (591, 263): 592,\n",
              " (592, 151): 593,\n",
              " (593, 367): 594,\n",
              " (594, 353): 595,\n",
              " (595, 303): 596,\n",
              " (596, 454): 597,\n",
              " (597, 289): 598,\n",
              " (598, 299): 599,\n",
              " (599, 290): 600,\n",
              " (600, 455): 601,\n",
              " (601, 258): 602,\n",
              " (602, 399): 603,\n",
              " (603, 317): 604,\n",
              " (604, 456): 605,\n",
              " (605, 457): 606,\n",
              " (606, 369): 607,\n",
              " (607, 400): 608,\n",
              " (608, 170): 609,\n",
              " (609, 296): 610,\n",
              " (610, 176): 611,\n",
              " (611, 401): 612,\n",
              " (612, 270): 613,\n",
              " (613, 353): 614,\n",
              " (614, 274): 615,\n",
              " (615, 458): 616,\n",
              " (616, 355): 617,\n",
              " (617, 267): 618,\n",
              " (618, 313): 619,\n",
              " (619, 276): 620,\n",
              " (620, 285): 621,\n",
              " (621, 272): 622,\n",
              " (622, 166): 623,\n",
              " (623, 401): 624,\n",
              " (624, 402): 625,\n",
              " (625, 272): 626,\n",
              " (626, 403): 627,\n",
              " (627, 404): 628,\n",
              " (628, 371): 629,\n",
              " (629, 459): 630,\n",
              " (630, 271): 631,\n",
              " (631, 291): 632,\n",
              " (632, 393): 633,\n",
              " (633, 133): 634,\n",
              " (634, 460): 635,\n",
              " (635, 461): 636,\n",
              " (636, 405): 637,\n",
              " (637, 333): 638,\n",
              " (638, 287): 639,\n",
              " (639, 407): 640,\n",
              " (640, 172): 641,\n",
              " (641, 334): 642,\n",
              " (642, 462): 643,\n",
              " (643, 372): 644,\n",
              " (644, 463): 645,\n",
              " (645, 374): 646,\n",
              " (646, 369): 647,\n",
              " (647, 341): 648,\n",
              " (648, 464): 649,\n",
              " (649, 408): 650,\n",
              " (650, 167): 651,\n",
              " (651, 356): 652,\n",
              " (652, 272): 653,\n",
              " (653, 302): 654,\n",
              " (654, 391): 655,\n",
              " (655, 340): 656,\n",
              " (656, 269): 657,\n",
              " (657, 357): 658,\n",
              " (658, 410): 659,\n",
              " (659, 335): 660,\n",
              " (660, 342): 661,\n",
              " (661, 269): 662,\n",
              " (662, 270): 663,\n",
              " (663, 271): 664,\n",
              " (664, 312): 665,\n",
              " (665, 466): 666,\n",
              " (666, 356): 667,\n",
              " (667, 292): 668,\n",
              " (668, 411): 669,\n",
              " (669, 154): 670,\n",
              " (670, 356): 671,\n",
              " (671, 264): 672,\n",
              " (672, 174): 673,\n",
              " (673, 375): 674,\n",
              " (674, 412): 675,\n",
              " (675, 271): 676,\n",
              " (676, 467): 677,\n",
              " (677, 310): 678,\n",
              " (678, 466): 679,\n",
              " (679, 376): 680,\n",
              " (680, 324): 681,\n",
              " (681, 272): 682,\n",
              " (682, 413): 683,\n",
              " (683, 414): 684,\n",
              " (684, 46): 685,\n",
              " (685, 411): 686,\n",
              " (686, 143): 687,\n",
              " (687, 269): 688,\n",
              " (688, 274): 689,\n",
              " (689, 314): 690,\n",
              " (690, 468): 691,\n",
              " (691, 269): 692,\n",
              " (692, 303): 693,\n",
              " (693, 134): 694,\n",
              " (694, 288): 695,\n",
              " (695, 265): 696,\n",
              " (696, 183): 697,\n",
              " (697, 308): 698,\n",
              " (698, 294): 699,\n",
              " (699, 415): 700,\n",
              " (700, 278): 701,\n",
              " (701, 416): 702,\n",
              " (702, 287): 703,\n",
              " (703, 377): 704,\n",
              " (704, 461): 705,\n",
              " (705, 374): 706,\n",
              " (706, 279): 707,\n",
              " (707, 417): 708,\n",
              " (708, 288): 709,\n",
              " (709, 372): 710,\n",
              " (710, 318): 711,\n",
              " (711, 264): 712,\n",
              " (712, 281): 713,\n",
              " (713, 151): 714,\n",
              " (714, 269): 715,\n",
              " (715, 278): 716,\n",
              " (716, 258): 717,\n",
              " (717, 175): 718,\n",
              " (718, 298): 719,\n",
              " (719, 164): 720,\n",
              " (720, 330): 721,\n",
              " (721, 356): 722,\n",
              " (722, 469): 723,\n",
              " (723, 344): 724,\n",
              " (724, 312): 725,\n",
              " (725, 136): 726,\n",
              " (726, 474): 727,\n",
              " (727, 477): 728,\n",
              " (728, 453): 729,\n",
              " (729, 479): 730,\n",
              " (730, 379): 731,\n",
              " (731, 480): 732,\n",
              " (732, 288): 733,\n",
              " (733, 298): 734,\n",
              " (734, 159): 735,\n",
              " (735, 319): 736,\n",
              " (736, 481): 737,\n",
              " (737, 176): 738,\n",
              " (738, 346): 739,\n",
              " (739, 373): 740,\n",
              " (740, 300): 741,\n",
              " (741, 468): 742,\n",
              " (742, 484): 743,\n",
              " (743, 265): 744,\n",
              " (744, 164): 745,\n",
              " (745, 485): 746,\n",
              " (746, 294): 747,\n",
              " (747, 133): 748,\n",
              " (748, 486): 749,\n",
              " (749, 489): 750,\n",
              " (750, 395): 751,\n",
              " (751, 419): 752,\n",
              " (752, 420): 753,\n",
              " (753, 474): 754,\n",
              " (754, 294): 755,\n",
              " (755, 398): 756,\n",
              " (756, 310): 757,\n",
              " (757, 490): 758,\n",
              " (758, 400): 759,\n",
              " (759, 345): 760,\n",
              " (760, 175): 761,\n",
              " (761, 421): 762,\n",
              " (762, 297): 763,\n",
              " (763, 491): 764,\n",
              " (764, 309): 765,\n",
              " (765, 422): 766,\n",
              " (766, 420): 767,\n",
              " (767, 271): 768,\n",
              " (768, 277): 769,\n",
              " (769, 256): 770,\n",
              " (770, 457): 771,\n",
              " (771, 271): 772,\n",
              " (772, 423): 773,\n",
              " (773, 492): 774,\n",
              " (774, 264): 775,\n",
              " (775, 175): 776,\n",
              " (776, 493): 777,\n",
              " (777, 452): 778,\n",
              " (778, 270): 779,\n",
              " (779, 289): 780,\n",
              " (780, 380): 781,\n",
              " (781, 256): 782,\n",
              " (782, 354): 783,\n",
              " (783, 494): 784,\n",
              " (784, 336): 785,\n",
              " (785, 176): 786,\n",
              " (786, 495): 787,\n",
              " (787, 402): 788,\n",
              " (788, 257): 789,\n",
              " (789, 136): 790,\n",
              " (790, 355): 791,\n",
              " (791, 277): 792,\n",
              " (792, 299): 793,\n",
              " (793, 496): 794,\n",
              " (794, 497): 795,\n",
              " (795, 280): 796,\n",
              " (796, 498): 797,\n",
              " (797, 302): 798,\n",
              " (798, 499): 799,\n",
              " (799, 462): 800,\n",
              " (800, 500): 801,\n",
              " (801, 340): 802,\n",
              " (802, 307): 803,\n",
              " (803, 273): 804,\n",
              " (804, 501): 805,\n",
              " (805, 502): 806,\n",
              " (806, 290): 807,\n",
              " (807, 277): 808,\n",
              " (808, 360): 809,\n",
              " (809, 309): 810,\n",
              " (810, 271): 811,\n",
              " (811, 422): 812,\n",
              " (812, 289): 813,\n",
              " (813, 341): 814,\n",
              " (814, 318): 815,\n",
              " (815, 420): 816,\n",
              " (816, 290): 817,\n",
              " (817, 276): 818,\n",
              " (818, 258): 819,\n",
              " (819, 151): 820,\n",
              " (820, 342): 821,\n",
              " (821, 380): 822,\n",
              " (822, 402): 823,\n",
              " (823, 314): 824,\n",
              " (824, 503): 825,\n",
              " (825, 277): 826,\n",
              " (826, 289): 827,\n",
              " (827, 285): 828,\n",
              " (828, 395): 829,\n",
              " (829, 267): 830,\n",
              " (830, 426): 831,\n",
              " (831, 427): 832,\n",
              " (832, 137): 833,\n",
              " (833, 348): 834,\n",
              " (834, 367): 835,\n",
              " (835, 265): 836,\n",
              " (836, 172): 837,\n",
              " (837, 291): 838,\n",
              " (838, 263): 839,\n",
              " (839, 149): 840,\n",
              " (840, 367): 841,\n",
              " (841, 412): 842,\n",
              " (842, 308): 843,\n",
              " (843, 381): 844,\n",
              " (844, 373): 845,\n",
              " (845, 505): 846,\n",
              " (846, 506): 847,\n",
              " (847, 481): 848,\n",
              " (848, 456): 849,\n",
              " (849, 508): 850,\n",
              " (850, 294): 851,\n",
              " (851, 509): 852,\n",
              " (852, 271): 853,\n",
              " (853, 270): 854,\n",
              " (854, 510): 855,\n",
              " (855, 511): 856,\n",
              " (856, 508): 857,\n",
              " (857, 477): 858,\n",
              " (858, 513): 859,\n",
              " (859, 359): 860,\n",
              " (860, 285): 861,\n",
              " (861, 377): 862,\n",
              " (862, 142): 863,\n",
              " (863, 368): 864,\n",
              " (864, 288): 865,\n",
              " (865, 320): 866,\n",
              " (866, 515): 867,\n",
              " (867, 258): 868,\n",
              " (868, 429): 869,\n",
              " (869, 325): 870,\n",
              " (870, 337): 871,\n",
              " (871, 515): 872,\n",
              " (872, 289): 873,\n",
              " (873, 307): 874,\n",
              " (874, 271): 875,\n",
              " (875, 272): 876,\n",
              " (876, 142): 877,\n",
              " (877, 375): 878,\n",
              " (878, 335): 879,\n",
              " (879, 272): 880,\n",
              " (880, 359): 881,\n",
              " (881, 356): 882,\n",
              " (882, 259): 883,\n",
              " (883, 383): 884,\n",
              " (884, 516): 885,\n",
              " (885, 302): 886,\n",
              " (886, 517): 887,\n",
              " (887, 294): 888,\n",
              " (888, 164): 889,\n",
              " (889, 348): 890,\n",
              " (890, 369): 891,\n",
              " (891, 430): 892,\n",
              " (892, 256): 893,\n",
              " (893, 182): 894,\n",
              " (894, 349): 895,\n",
              " (895, 273): 896,\n",
              " (896, 337): 897,\n",
              " (897, 301): 898,\n",
              " (898, 428): 899,\n",
              " (899, 370): 900,\n",
              " (900, 497): 901,\n",
              " (901, 480): 902,\n",
              " (902, 278): 903,\n",
              " (903, 272): 904,\n",
              " (904, 518): 905,\n",
              " (905, 314): 906,\n",
              " (906, 490): 907,\n",
              " (907, 272): 908,\n",
              " (908, 415): 909,\n",
              " (909, 269): 910,\n",
              " (910, 412): 911,\n",
              " (911, 524): 912,\n",
              " (912, 525): 913,\n",
              " (913, 484): 914,\n",
              " (914, 325): 915,\n",
              " (915, 529): 916,\n",
              " (916, 306): 917,\n",
              " (917, 178): 918,\n",
              " (918, 530): 919,\n",
              " (919, 531): 920,\n",
              " (920, 133): 921,\n",
              " (921, 375): 922,\n",
              " (922, 535): 923,\n",
              " (923, 282): 924,\n",
              " (924, 498): 925,\n",
              " (925, 359): 926,\n",
              " (926, 338): 927,\n",
              " (927, 277): 928,\n",
              " (928, 285): 929,\n",
              " (929, 341): 930,\n",
              " (930, 324): 931,\n",
              " (931, 458): 932,\n",
              " (932, 430): 933,\n",
              " (933, 297): 934,\n",
              " (934, 291): 935,\n",
              " (935, 375): 936,\n",
              " (936, 344): 937,\n",
              " (937, 258): 938,\n",
              " (938, 529): 939,\n",
              " (939, 313): 940,\n",
              " (940, 536): 941,\n",
              " (941, 272): 942,\n",
              " (942, 170): 943,\n",
              " (943, 334): 944,\n",
              " (944, 335): 945,\n",
              " (945, 277): 946,\n",
              " (946, 353): 947,\n",
              " (947, 285): 948,\n",
              " (948, 506): 949,\n",
              " (949, 170): 950,\n",
              " (950, 384): 951,\n",
              " (951, 308): 952,\n",
              " (952, 297): 953,\n",
              " (953, 279): 954,\n",
              " (954, 538): 955,\n",
              " (955, 357): 956,\n",
              " (956, 539): 957,\n",
              " (957, 287): 958,\n",
              " (958, 292): 959,\n",
              " (959, 300): 960,\n",
              " (960, 540): 961,\n",
              " (961, 265): 962,\n",
              " (962, 166): 963,\n",
              " (963, 363): 964,\n",
              " (964, 261): 965,\n",
              " (965, 541): 966,\n",
              " (966, 276): 967,\n",
              " (967, 382): 968,\n",
              " (968, 435): 969,\n",
              " (969, 311): 970,\n",
              " (970, 301): 971,\n",
              " (971, 502): 972,\n",
              " (972, 436): 973,\n",
              " (973, 142): 974,\n",
              " (974, 397): 975,\n",
              " (975, 374): 976,\n",
              " (976, 291): 977,\n",
              " (977, 286): 978,\n",
              " (978, 258): 979,\n",
              " (979, 544): 980,\n",
              " (980, 270): 981,\n",
              " (981, 46): 982,\n",
              " (982, 545): 983,\n",
              " (983, 544): 984,\n",
              " (984, 536): 985,\n",
              " (985, 270): 986,\n",
              " (986, 360): 987,\n",
              " (987, 358): 988,\n",
              " (988, 258): 989,\n",
              " (989, 182): 990,\n",
              " (990, 299): 991,\n",
              " (991, 297): 992,\n",
              " (992, 262): 993,\n",
              " (993, 266): 994,\n",
              " (994, 447): 995,\n",
              " (995, 264): 996,\n",
              " (996, 172): 997,\n",
              " (997, 272): 998,\n",
              " (998, 437): 999}"
            ]
          },
          "metadata": {},
          "execution_count": 52
        }
      ]
    },
    {
      "cell_type": "code",
      "source": [
        "def encode(text):\n",
        "  # given a string, return list of integers (the tokens)\n",
        "  tokens = list(text.encode(\"utf-8\"))\n",
        "  while len(tokens) >= 2:\n",
        "    stats = get_stats(tokens)\n",
        "    pair = min(stats, key=lambda p: merges.get(p, float(\"inf\")))\n",
        "    if pair not in merges:\n",
        "      break # nothing else can be merged\n",
        "    idx = merges[pair]\n",
        "    tokens = merge(tokens, pair, idx)\n",
        "  return tokens\n",
        "\n",
        "print(encode(\"నేను తెలుగు నేర్చుకుందాం అనుకుంటున్నాను\"))"
      ],
      "metadata": {
        "colab": {
          "base_uri": "https://localhost:8080/",
          "height": 35
        },
        "id": "mSnCGsl5i6jA",
        "outputId": "804651e5-dcef-49ab-a4e0-3b1b6b0270af"
      },
      "execution_count": 53,
      "outputs": [
        {
          "output_type": "display_data",
          "data": {
            "text/plain": [
              "<IPython.core.display.HTML object>"
            ],
            "text/html": [
              "\n",
              "  <style>\n",
              "    pre {\n",
              "        white-space: pre-wrap;\n",
              "    }\n",
              "  </style>\n",
              "  "
            ]
          },
          "metadata": {}
        },
        {
          "output_type": "stream",
          "name": "stdout",
          "text": [
            "[269, 388, 409, 151, 272, 168, 270, 299, 346, 335, 317, 166, 264, 281, 351, 512, 318, 363, 260]\n"
          ]
        }
      ]
    },
    {
      "cell_type": "code",
      "source": [
        "print(encode(\"తెలుగు నేర్చుకుందాం\"))"
      ],
      "metadata": {
        "colab": {
          "base_uri": "https://localhost:8080/",
          "height": 35
        },
        "id": "fr3mg88_i96P",
        "outputId": "7cf7c63a-8a91-41aa-e5ab-e8fdd7a98985"
      },
      "execution_count": 54,
      "outputs": [
        {
          "output_type": "display_data",
          "data": {
            "text/plain": [
              "<IPython.core.display.HTML object>"
            ],
            "text/html": [
              "\n",
              "  <style>\n",
              "    pre {\n",
              "        white-space: pre-wrap;\n",
              "    }\n",
              "  </style>\n",
              "  "
            ]
          },
          "metadata": {}
        },
        {
          "output_type": "stream",
          "name": "stdout",
          "text": [
            "[297, 311, 267, 151, 272, 168, 270, 299, 346, 335, 317, 166, 264, 130]\n"
          ]
        }
      ]
    },
    {
      "cell_type": "code",
      "source": [
        "text2 = decode(encode(text))\n",
        "print(text2 == text)"
      ],
      "metadata": {
        "colab": {
          "base_uri": "https://localhost:8080/",
          "height": 35
        },
        "id": "ValmY1DzjCRm",
        "outputId": "c18ef4e2-33e2-4932-ad3c-584e76860a44"
      },
      "execution_count": 55,
      "outputs": [
        {
          "data": {
            "text/html": [
              "\n",
              "  <style>\n",
              "    pre {\n",
              "        white-space: pre-wrap;\n",
              "    }\n",
              "  </style>\n",
              "  "
            ],
            "text/plain": [
              "<IPython.core.display.HTML object>"
            ]
          },
          "metadata": {},
          "output_type": "display_data"
        },
        {
          "output_type": "stream",
          "name": "stdout",
          "text": [
            "True\n"
          ]
        }
      ]
    },
    {
      "cell_type": "code",
      "source": [
        "import regex as re\n",
        "pat = re.compile(r\"\"\"| ?\\p{L}+\"\"\")\n",
        "print(re.findall(pat, \"భారతదేశం నా మాతృభూమి !\"))"
      ],
      "metadata": {
        "colab": {
          "base_uri": "https://localhost:8080/",
          "height": 53
        },
        "id": "HWfyAllMjGGu",
        "outputId": "f535c2c2-9f40-427d-a281-2ea7391750e0"
      },
      "execution_count": 56,
      "outputs": [
        {
          "output_type": "display_data",
          "data": {
            "text/plain": [
              "<IPython.core.display.HTML object>"
            ],
            "text/html": [
              "\n",
              "  <style>\n",
              "    pre {\n",
              "        white-space: pre-wrap;\n",
              "    }\n",
              "  </style>\n",
              "  "
            ]
          },
          "metadata": {}
        },
        {
          "output_type": "stream",
          "name": "stdout",
          "text": [
            "['', 'భ', '', '', 'రతద', '', '', 'శ', '', '', ' న', '', '', ' మ', '', '', 'త', '', '', 'భ', '', '', 'మ', '', '', '', '']\n"
          ]
        }
      ]
    },
    {
      "cell_type": "code",
      "source": [
        "import regex as re\n",
        "pat = re.compile(r\"\"\"'s|'ve| ?\\p{L}+| ?\\p{N}+|\"\"\")\n",
        "print(re.findall(pat, \"భారతదేశం నా మాతృభూమి !\"))"
      ],
      "metadata": {
        "colab": {
          "base_uri": "https://localhost:8080/",
          "height": 35
        },
        "id": "QyX_nBaemhF0",
        "outputId": "dc124a40-0d49-4784-dd2d-431421119a23"
      },
      "execution_count": 57,
      "outputs": [
        {
          "output_type": "display_data",
          "data": {
            "text/plain": [
              "<IPython.core.display.HTML object>"
            ],
            "text/html": [
              "\n",
              "  <style>\n",
              "    pre {\n",
              "        white-space: pre-wrap;\n",
              "    }\n",
              "  </style>\n",
              "  "
            ]
          },
          "metadata": {}
        },
        {
          "output_type": "stream",
          "name": "stdout",
          "text": [
            "['భ', '', 'రతద', '', 'శ', '', ' న', '', ' మ', '', 'త', '', 'భ', '', 'మ', '', '', '', '']\n"
          ]
        }
      ]
    },
    {
      "cell_type": "code",
      "source": [
        "import regex as re\n",
        "gpt2pat = re.compile(r\"\"\"'s|'t|'re|'ve|'m|'ll|'d| ?\\p{L}+| ?\\p{N}+| ?[^\\s\\p{L}\\p{N}]+|\\s+(?!\\S)|\\s+\"\"\")\n",
        "\n",
        "print(re.findall(gpt2pat, \"అమెరికాలో(USA) 123,000,000 మంది తెలుగు వాళ్ళు ఉన్నారు!!! \"))"
      ],
      "metadata": {
        "colab": {
          "base_uri": "https://localhost:8080/",
          "height": 53
        },
        "id": "Tx0dSGx6momv",
        "outputId": "fa45d099-533a-40b8-cd22-2622e54ef5bc"
      },
      "execution_count": 58,
      "outputs": [
        {
          "output_type": "display_data",
          "data": {
            "text/plain": [
              "<IPython.core.display.HTML object>"
            ],
            "text/html": [
              "\n",
              "  <style>\n",
              "    pre {\n",
              "        white-space: pre-wrap;\n",
              "    }\n",
              "  </style>\n",
              "  "
            ]
          },
          "metadata": {}
        },
        {
          "output_type": "stream",
          "name": "stdout",
          "text": [
            "['అమ', 'ె', 'ర', 'ి', 'క', 'ా', 'ల', 'ో(', 'USA', ')', ' 123', ',', '000', ',', '000', ' మ', 'ం', 'ద', 'ి', ' త', 'ె', 'ల', 'ు', 'గ', 'ు', ' వ', 'ా', 'ళ', '్', 'ళ', 'ు', ' ఉన', '్', 'న', 'ా', 'ర', 'ు!!!', ' ']\n"
          ]
        }
      ]
    },
    {
      "cell_type": "code",
      "source": [
        "!pip install tiktoken"
      ],
      "metadata": {
        "colab": {
          "base_uri": "https://localhost:8080/",
          "height": 213
        },
        "id": "EudnXx9anXUU",
        "outputId": "8bcc1240-4623-4a16-947a-f5cdb231fdda"
      },
      "execution_count": 60,
      "outputs": [
        {
          "output_type": "display_data",
          "data": {
            "text/plain": [
              "<IPython.core.display.HTML object>"
            ],
            "text/html": [
              "\n",
              "  <style>\n",
              "    pre {\n",
              "        white-space: pre-wrap;\n",
              "    }\n",
              "  </style>\n",
              "  "
            ]
          },
          "metadata": {}
        },
        {
          "output_type": "stream",
          "name": "stdout",
          "text": [
            "Requirement already satisfied: tiktoken in /usr/local/lib/python3.11/dist-packages (0.9.0)\n",
            "Requirement already satisfied: regex>=2022.1.18 in /usr/local/lib/python3.11/dist-packages (from tiktoken) (2024.11.6)\n",
            "Requirement already satisfied: requests>=2.26.0 in /usr/local/lib/python3.11/dist-packages (from tiktoken) (2.32.3)\n",
            "Requirement already satisfied: charset-normalizer<4,>=2 in /usr/local/lib/python3.11/dist-packages (from requests>=2.26.0->tiktoken) (3.4.2)\n",
            "Requirement already satisfied: idna<4,>=2.5 in /usr/local/lib/python3.11/dist-packages (from requests>=2.26.0->tiktoken) (3.10)\n",
            "Requirement already satisfied: urllib3<3,>=1.21.1 in /usr/local/lib/python3.11/dist-packages (from requests>=2.26.0->tiktoken) (2.4.0)\n",
            "Requirement already satisfied: certifi>=2017.4.17 in /usr/local/lib/python3.11/dist-packages (from requests>=2.26.0->tiktoken) (2025.6.15)\n"
          ]
        }
      ]
    },
    {
      "cell_type": "code",
      "source": [
        "import tiktoken\n",
        "\n",
        "# GPT-2 (does not merge spaces)\n",
        "enc = tiktoken.get_encoding(\"gpt2\")\n",
        "print(enc.encode(\"    hello world!!!\"))\n",
        "\n",
        "# GPT-4 (merges spaces)\n",
        "enc = tiktoken.get_encoding(\"cl100k_base\")\n",
        "print(enc.encode(\"    hello world!!!\"))"
      ],
      "metadata": {
        "colab": {
          "base_uri": "https://localhost:8080/",
          "height": 53
        },
        "id": "uZ6aUXdancV5",
        "outputId": "bd29dfae-e13c-43c3-ceab-1bdd3dc3f83a"
      },
      "execution_count": 61,
      "outputs": [
        {
          "output_type": "display_data",
          "data": {
            "text/plain": [
              "<IPython.core.display.HTML object>"
            ],
            "text/html": [
              "\n",
              "  <style>\n",
              "    pre {\n",
              "        white-space: pre-wrap;\n",
              "    }\n",
              "  </style>\n",
              "  "
            ]
          },
          "metadata": {}
        },
        {
          "output_type": "stream",
          "name": "stdout",
          "text": [
            "[220, 220, 220, 23748, 995, 10185]\n",
            "[262, 24748, 1917, 12340]\n"
          ]
        }
      ]
    },
    {
      "cell_type": "code",
      "source": [
        "pat = re.compile(r\"\"\"'(?:[sdmt]|ll|ve|re)| ?\\p{L}+| ?\\p{N}+| ?[^\\s\\p{L}\\p{N}]+|\\s+(?!\\S)|\\s+\"\"\")\n",
        "print(re.findall(pat, \"Tiger's dead. I've killed it!\"))"
      ],
      "metadata": {
        "colab": {
          "base_uri": "https://localhost:8080/",
          "height": 35
        },
        "id": "GmTTKJvzng5v",
        "outputId": "05ffdd07-a685-45ec-b95c-dfa00ff11e72"
      },
      "execution_count": null,
      "outputs": [
        {
          "output_type": "display_data",
          "data": {
            "text/plain": [
              "<IPython.core.display.HTML object>"
            ],
            "text/html": [
              "\n",
              "  <style>\n",
              "    pre {\n",
              "        white-space: pre-wrap;\n",
              "    }\n",
              "  </style>\n",
              "  "
            ]
          },
          "metadata": {}
        },
        {
          "output_type": "stream",
          "name": "stdout",
          "text": [
            "['Tiger', \"'s\", ' dead', '.', ' I', \"'ve\", ' killed', ' it', '!']\n"
          ]
        }
      ]
    },
    {
      "cell_type": "code",
      "source": [
        "pat = re.compile(r\"\"\"'(?i:[sdmt]|ll|ve|re)|[^\\r\\n\\p{L}\\p{N}]?+\\p{L}+|\\p{N}{1,3}| ?[^\\s\\p{L}\\p{N}]++[\\r\\n]*|\\s*[\\r\\n]|\\s+(?!\\S)|\\s+\"\"\")\n",
        "print(re.findall(pat, \"Tiger's dead. I'VE killed it!\"))"
      ],
      "metadata": {
        "colab": {
          "base_uri": "https://localhost:8080/",
          "height": 35
        },
        "id": "SK1KwHhNnpFd",
        "outputId": "563d1e1d-296f-437d-d405-2af21e0b1a4b"
      },
      "execution_count": null,
      "outputs": [
        {
          "output_type": "display_data",
          "data": {
            "text/plain": [
              "<IPython.core.display.HTML object>"
            ],
            "text/html": [
              "\n",
              "  <style>\n",
              "    pre {\n",
              "        white-space: pre-wrap;\n",
              "    }\n",
              "  </style>\n",
              "  "
            ]
          },
          "metadata": {}
        },
        {
          "output_type": "stream",
          "name": "stdout",
          "text": [
            "['Tiger', \"'s\", ' dead', '.', ' I', \"'VE\", ' killed', ' it', '!']\n"
          ]
        }
      ]
    },
    {
      "cell_type": "code",
      "source": [
        "!wget https://openaipublic.blob.core.windows.net/gpt-2/models/1558M/vocab.bpe\n",
        "!wget https://openaipublic.blob.core.windows.net/gpt-2/models/1558M/encoder.json"
      ],
      "metadata": {
        "colab": {
          "base_uri": "https://localhost:8080/",
          "height": 411
        },
        "id": "pxc5XJtdns0d",
        "outputId": "64ddb983-3ff7-4c90-8a50-ed2dd8ba718f"
      },
      "execution_count": null,
      "outputs": [
        {
          "output_type": "display_data",
          "data": {
            "text/plain": [
              "<IPython.core.display.HTML object>"
            ],
            "text/html": [
              "\n",
              "  <style>\n",
              "    pre {\n",
              "        white-space: pre-wrap;\n",
              "    }\n",
              "  </style>\n",
              "  "
            ]
          },
          "metadata": {}
        },
        {
          "output_type": "stream",
          "name": "stdout",
          "text": [
            "--2025-01-04 04:42:30--  https://openaipublic.blob.core.windows.net/gpt-2/models/1558M/vocab.bpe\n",
            "Resolving openaipublic.blob.core.windows.net (openaipublic.blob.core.windows.net)... 57.150.97.129\n",
            "Connecting to openaipublic.blob.core.windows.net (openaipublic.blob.core.windows.net)|57.150.97.129|:443... connected.\n",
            "HTTP request sent, awaiting response... 200 OK\n",
            "Length: 456318 (446K) [application/octet-stream]\n",
            "Saving to: ‘vocab.bpe’\n",
            "\n",
            "vocab.bpe           100%[===================>] 445.62K  1.54MB/s    in 0.3s    \n",
            "\n",
            "2025-01-04 04:42:31 (1.54 MB/s) - ‘vocab.bpe’ saved [456318/456318]\n",
            "\n",
            "--2025-01-04 04:42:31--  https://openaipublic.blob.core.windows.net/gpt-2/models/1558M/encoder.json\n",
            "Resolving openaipublic.blob.core.windows.net (openaipublic.blob.core.windows.net)... 57.150.97.129\n",
            "Connecting to openaipublic.blob.core.windows.net (openaipublic.blob.core.windows.net)|57.150.97.129|:443... connected.\n",
            "HTTP request sent, awaiting response... 200 OK\n",
            "Length: 1042301 (1018K) [application/json]\n",
            "Saving to: ‘encoder.json’\n",
            "\n",
            "encoder.json        100%[===================>]   1018K  2.86MB/s    in 0.3s    \n",
            "\n",
            "2025-01-04 04:42:32 (2.86 MB/s) - ‘encoder.json’ saved [1042301/1042301]\n",
            "\n"
          ]
        }
      ]
    },
    {
      "cell_type": "code",
      "source": [
        "import os, json\n",
        "\n",
        "with open('encoder.json', 'r') as f:\n",
        "    encoder = json.load(f) # <--- ~equivalent to our \"vocab\"\n",
        "\n",
        "with open('vocab.bpe', 'r', encoding=\"utf-8\") as f:\n",
        "    bpe_data = f.read()\n",
        "bpe_merges = [tuple(merge_str.split()) for merge_str in bpe_data.split('\\n')[1:-1]]\n",
        "# ^---- ~equivalent to our \"merges\"\n"
      ],
      "metadata": {
        "colab": {
          "base_uri": "https://localhost:8080/",
          "height": 17
        },
        "id": "moRAduRXnzVk",
        "outputId": "239a679d-d68c-4cdc-b184-319774d07342"
      },
      "execution_count": null,
      "outputs": [
        {
          "output_type": "display_data",
          "data": {
            "text/plain": [
              "<IPython.core.display.HTML object>"
            ],
            "text/html": [
              "\n",
              "  <style>\n",
              "    pre {\n",
              "        white-space: pre-wrap;\n",
              "    }\n",
              "  </style>\n",
              "  "
            ]
          },
          "metadata": {}
        }
      ]
    },
    {
      "cell_type": "code",
      "source": [
        "len(encoder)"
      ],
      "metadata": {
        "colab": {
          "base_uri": "https://localhost:8080/",
          "height": 35
        },
        "id": "xic-EzL6ooPh",
        "outputId": "086a112c-9b3c-493d-a0a0-15b79f8edb05"
      },
      "execution_count": null,
      "outputs": [
        {
          "output_type": "display_data",
          "data": {
            "text/plain": [
              "<IPython.core.display.HTML object>"
            ],
            "text/html": [
              "\n",
              "  <style>\n",
              "    pre {\n",
              "        white-space: pre-wrap;\n",
              "    }\n",
              "  </style>\n",
              "  "
            ]
          },
          "metadata": {}
        },
        {
          "output_type": "execute_result",
          "data": {
            "text/plain": [
              "50257"
            ]
          },
          "metadata": {},
          "execution_count": 67
        }
      ]
    },
    {
      "cell_type": "code",
      "source": [
        "type(encoder)"
      ],
      "metadata": {
        "colab": {
          "base_uri": "https://localhost:8080/",
          "height": 35
        },
        "id": "IcVSfcsBorgS",
        "outputId": "fda49886-5bde-4bae-f802-18cdda9a64a2"
      },
      "execution_count": null,
      "outputs": [
        {
          "output_type": "display_data",
          "data": {
            "text/plain": [
              "<IPython.core.display.HTML object>"
            ],
            "text/html": [
              "\n",
              "  <style>\n",
              "    pre {\n",
              "        white-space: pre-wrap;\n",
              "    }\n",
              "  </style>\n",
              "  "
            ]
          },
          "metadata": {}
        },
        {
          "output_type": "execute_result",
          "data": {
            "text/plain": [
              "dict"
            ]
          },
          "metadata": {},
          "execution_count": 68
        }
      ]
    },
    {
      "cell_type": "code",
      "source": [
        "encoder['<|endoftext|>'] # the only special token in use for the GPT-2 base model"
      ],
      "metadata": {
        "colab": {
          "base_uri": "https://localhost:8080/",
          "height": 35
        },
        "id": "e8Ysu72YotC3",
        "outputId": "a549faa1-c901-452f-d7c1-e835bb1b5ae0"
      },
      "execution_count": null,
      "outputs": [
        {
          "output_type": "display_data",
          "data": {
            "text/plain": [
              "<IPython.core.display.HTML object>"
            ],
            "text/html": [
              "\n",
              "  <style>\n",
              "    pre {\n",
              "        white-space: pre-wrap;\n",
              "    }\n",
              "  </style>\n",
              "  "
            ]
          },
          "metadata": {}
        },
        {
          "output_type": "execute_result",
          "data": {
            "text/plain": [
              "50256"
            ]
          },
          "metadata": {},
          "execution_count": 69
        }
      ]
    },
    {
      "cell_type": "code",
      "source": [
        "cl100k_base = tiktoken.get_encoding(\"cl100k_base\")\n",
        "\n",
        "# In production, load the arguments directly instead of accessing private attributes\n",
        "# See openai_public.py for examples of arguments for specific encodings\n",
        "enc = tiktoken.Encoding(\n",
        "    # If you're changing the set of special tokens, make sure to use a different name\n",
        "    # It should be clear from the name what behaviour to expect.\n",
        "    name=\"cl100k_im\",\n",
        "    pat_str=cl100k_base._pat_str,\n",
        "    mergeable_ranks=cl100k_base._mergeable_ranks,\n",
        "    special_tokens={\n",
        "        **cl100k_base._special_tokens,\n",
        "        \"<|im_start|>\": 100264,\n",
        "        \"<|im_end|>\": 100265,\n",
        "    }\n",
        ")"
      ],
      "metadata": {
        "colab": {
          "base_uri": "https://localhost:8080/",
          "height": 17
        },
        "id": "_EemSpNlouGV",
        "outputId": "88d30d1d-3e08-4968-dad0-269d3c6f60f6"
      },
      "execution_count": null,
      "outputs": [
        {
          "output_type": "display_data",
          "data": {
            "text/plain": [
              "<IPython.core.display.HTML object>"
            ],
            "text/html": [
              "\n",
              "  <style>\n",
              "    pre {\n",
              "        white-space: pre-wrap;\n",
              "    }\n",
              "  </style>\n",
              "  "
            ]
          },
          "metadata": {}
        }
      ]
    },
    {
      "cell_type": "markdown",
      "source": [
        "### sentencepiece\n",
        "\n",
        "Commonly used because (unlike tiktoken) it can efficiently both train and inference BPE tokenizers. It is used in both Llama and Mistral series.\n",
        "\n",
        "[sentencepiece on Github link](https://github.com/google/sentencepiece).\n",
        "\n",
        "**The big difference**: sentencepiece runs BPE on the Unicode code points directly! It then has an option `character_coverage` for what to do with very very rare codepoints that appear very few times, and it either maps them onto an UNK token, or if `byte_fallback` is turned on, it encodes them with utf-8 and then encodes the raw bytes instead.\n",
        "\n",
        "TLDR:\n",
        "\n",
        "- tiktoken encodes to utf-8 and then BPEs bytes\n",
        "- sentencepiece BPEs the code points and optionally falls back to utf-8 bytes for rare code points (rarity is determined by character_coverage hyperparameter), which then get translated to byte tokens.\n",
        "\n",
        "(Personally I think the tiktoken way is a lot cleaner...)"
      ],
      "metadata": {
        "id": "qG9hi0r_o8KT"
      }
    },
    {
      "cell_type": "code",
      "source": [
        "import sentencepiece as spm"
      ],
      "metadata": {
        "colab": {
          "base_uri": "https://localhost:8080/",
          "height": 17
        },
        "id": "WREQirG3o7-2",
        "outputId": "14937b42-8d2e-48a7-9293-cb512c625913"
      },
      "execution_count": null,
      "outputs": [
        {
          "output_type": "display_data",
          "data": {
            "text/plain": [
              "<IPython.core.display.HTML object>"
            ],
            "text/html": [
              "\n",
              "  <style>\n",
              "    pre {\n",
              "        white-space: pre-wrap;\n",
              "    }\n",
              "  </style>\n",
              "  "
            ]
          },
          "metadata": {}
        }
      ]
    },
    {
      "cell_type": "code",
      "source": [
        "# write a toy.txt file with some random text\n",
        "with open(\"toy.txt\", \"w\", encoding=\"utf-8\") as f:\n",
        "  f.write(\"SentencePiece is an unsupervised text tokenizer and detokenizer mainly for Neural Network-based text generation systems where the vocabulary size is predetermined prior to the neural model training. SentencePiece implements subword units (e.g., byte-pair-encoding (BPE) [Sennrich et al.]) and unigram language model [Kudo.]) with the extension of direct training from raw sentences. SentencePiece allows us to make a purely end-to-end system that does not depend on language-specific pre/postprocessing.\")"
      ],
      "metadata": {
        "colab": {
          "base_uri": "https://localhost:8080/",
          "height": 17
        },
        "id": "GA0mFh_8o3EQ",
        "outputId": "b8e62c40-a85e-42d2-baa8-76d355dd963c"
      },
      "execution_count": null,
      "outputs": [
        {
          "output_type": "display_data",
          "data": {
            "text/plain": [
              "<IPython.core.display.HTML object>"
            ],
            "text/html": [
              "\n",
              "  <style>\n",
              "    pre {\n",
              "        white-space: pre-wrap;\n",
              "    }\n",
              "  </style>\n",
              "  "
            ]
          },
          "metadata": {}
        }
      ]
    },
    {
      "cell_type": "code",
      "source": [
        "# train a sentencepiece model on it\n",
        "# the settings here are (best effort) those used for training Llama 2\n",
        "import os\n",
        "\n",
        "options = dict(\n",
        "  # input spec\n",
        "  input=\"toy.txt\",\n",
        "  input_format=\"text\",\n",
        "  # output spec\n",
        "  model_prefix=\"tok400\", # output filename prefix\n",
        "  # algorithm spec\n",
        "  # BPE alg\n",
        "  model_type=\"bpe\",\n",
        "  vocab_size=400,\n",
        "  # normalization\n",
        "  normalization_rule_name=\"identity\", # ew, turn off normalization\n",
        "  remove_extra_whitespaces=False,\n",
        "  input_sentence_size=200000000, # max number of training sentences\n",
        "  max_sentence_length=4192, # max number of bytes per sentence\n",
        "  seed_sentencepiece_size=1000000,\n",
        "  shuffle_input_sentence=True,\n",
        "  # rare word treatment\n",
        "  character_coverage=0.99995,\n",
        "  byte_fallback=True,\n",
        "  # merge rules\n",
        "  split_digits=True,\n",
        "  split_by_unicode_script=True,\n",
        "  split_by_whitespace=True,\n",
        "  split_by_number=True,\n",
        "  max_sentencepiece_length=16,\n",
        "  add_dummy_prefix=True,\n",
        "  allow_whitespace_only_pieces=True,\n",
        "  # special tokens\n",
        "  unk_id=0, # the UNK token MUST exist\n",
        "  bos_id=1, # the others are optional, set to -1 to turn off\n",
        "  eos_id=2,\n",
        "  pad_id=-1,\n",
        "  # systems\n",
        "  num_threads=os.cpu_count(), # use ~all system resources\n",
        ")\n",
        "\n",
        "spm.SentencePieceTrainer.train(**options)\n"
      ],
      "metadata": {
        "colab": {
          "base_uri": "https://localhost:8080/",
          "height": 17
        },
        "id": "Y5g9_CRypH_q",
        "outputId": "94bd099b-e519-43c7-b923-f48ba377528f"
      },
      "execution_count": null,
      "outputs": [
        {
          "output_type": "display_data",
          "data": {
            "text/plain": [
              "<IPython.core.display.HTML object>"
            ],
            "text/html": [
              "\n",
              "  <style>\n",
              "    pre {\n",
              "        white-space: pre-wrap;\n",
              "    }\n",
              "  </style>\n",
              "  "
            ]
          },
          "metadata": {}
        }
      ]
    },
    {
      "cell_type": "code",
      "source": [
        "sp = spm.SentencePieceProcessor()\n",
        "sp.load('tok400.model')\n",
        "vocab = [[sp.id_to_piece(idx), idx] for idx in range(sp.get_piece_size())]\n",
        "vocab"
      ],
      "metadata": {
        "colab": {
          "base_uri": "https://localhost:8080/",
          "height": 1000
        },
        "id": "TY3AhpqPpLiS",
        "outputId": "2ec492ea-c780-4d75-f543-aee3bb50d0e0"
      },
      "execution_count": null,
      "outputs": [
        {
          "output_type": "display_data",
          "data": {
            "text/plain": [
              "<IPython.core.display.HTML object>"
            ],
            "text/html": [
              "\n",
              "  <style>\n",
              "    pre {\n",
              "        white-space: pre-wrap;\n",
              "    }\n",
              "  </style>\n",
              "  "
            ]
          },
          "metadata": {}
        },
        {
          "output_type": "execute_result",
          "data": {
            "text/plain": [
              "[['<unk>', 0],\n",
              " ['<s>', 1],\n",
              " ['</s>', 2],\n",
              " ['<0x00>', 3],\n",
              " ['<0x01>', 4],\n",
              " ['<0x02>', 5],\n",
              " ['<0x03>', 6],\n",
              " ['<0x04>', 7],\n",
              " ['<0x05>', 8],\n",
              " ['<0x06>', 9],\n",
              " ['<0x07>', 10],\n",
              " ['<0x08>', 11],\n",
              " ['<0x09>', 12],\n",
              " ['<0x0A>', 13],\n",
              " ['<0x0B>', 14],\n",
              " ['<0x0C>', 15],\n",
              " ['<0x0D>', 16],\n",
              " ['<0x0E>', 17],\n",
              " ['<0x0F>', 18],\n",
              " ['<0x10>', 19],\n",
              " ['<0x11>', 20],\n",
              " ['<0x12>', 21],\n",
              " ['<0x13>', 22],\n",
              " ['<0x14>', 23],\n",
              " ['<0x15>', 24],\n",
              " ['<0x16>', 25],\n",
              " ['<0x17>', 26],\n",
              " ['<0x18>', 27],\n",
              " ['<0x19>', 28],\n",
              " ['<0x1A>', 29],\n",
              " ['<0x1B>', 30],\n",
              " ['<0x1C>', 31],\n",
              " ['<0x1D>', 32],\n",
              " ['<0x1E>', 33],\n",
              " ['<0x1F>', 34],\n",
              " ['<0x20>', 35],\n",
              " ['<0x21>', 36],\n",
              " ['<0x22>', 37],\n",
              " ['<0x23>', 38],\n",
              " ['<0x24>', 39],\n",
              " ['<0x25>', 40],\n",
              " ['<0x26>', 41],\n",
              " ['<0x27>', 42],\n",
              " ['<0x28>', 43],\n",
              " ['<0x29>', 44],\n",
              " ['<0x2A>', 45],\n",
              " ['<0x2B>', 46],\n",
              " ['<0x2C>', 47],\n",
              " ['<0x2D>', 48],\n",
              " ['<0x2E>', 49],\n",
              " ['<0x2F>', 50],\n",
              " ['<0x30>', 51],\n",
              " ['<0x31>', 52],\n",
              " ['<0x32>', 53],\n",
              " ['<0x33>', 54],\n",
              " ['<0x34>', 55],\n",
              " ['<0x35>', 56],\n",
              " ['<0x36>', 57],\n",
              " ['<0x37>', 58],\n",
              " ['<0x38>', 59],\n",
              " ['<0x39>', 60],\n",
              " ['<0x3A>', 61],\n",
              " ['<0x3B>', 62],\n",
              " ['<0x3C>', 63],\n",
              " ['<0x3D>', 64],\n",
              " ['<0x3E>', 65],\n",
              " ['<0x3F>', 66],\n",
              " ['<0x40>', 67],\n",
              " ['<0x41>', 68],\n",
              " ['<0x42>', 69],\n",
              " ['<0x43>', 70],\n",
              " ['<0x44>', 71],\n",
              " ['<0x45>', 72],\n",
              " ['<0x46>', 73],\n",
              " ['<0x47>', 74],\n",
              " ['<0x48>', 75],\n",
              " ['<0x49>', 76],\n",
              " ['<0x4A>', 77],\n",
              " ['<0x4B>', 78],\n",
              " ['<0x4C>', 79],\n",
              " ['<0x4D>', 80],\n",
              " ['<0x4E>', 81],\n",
              " ['<0x4F>', 82],\n",
              " ['<0x50>', 83],\n",
              " ['<0x51>', 84],\n",
              " ['<0x52>', 85],\n",
              " ['<0x53>', 86],\n",
              " ['<0x54>', 87],\n",
              " ['<0x55>', 88],\n",
              " ['<0x56>', 89],\n",
              " ['<0x57>', 90],\n",
              " ['<0x58>', 91],\n",
              " ['<0x59>', 92],\n",
              " ['<0x5A>', 93],\n",
              " ['<0x5B>', 94],\n",
              " ['<0x5C>', 95],\n",
              " ['<0x5D>', 96],\n",
              " ['<0x5E>', 97],\n",
              " ['<0x5F>', 98],\n",
              " ['<0x60>', 99],\n",
              " ['<0x61>', 100],\n",
              " ['<0x62>', 101],\n",
              " ['<0x63>', 102],\n",
              " ['<0x64>', 103],\n",
              " ['<0x65>', 104],\n",
              " ['<0x66>', 105],\n",
              " ['<0x67>', 106],\n",
              " ['<0x68>', 107],\n",
              " ['<0x69>', 108],\n",
              " ['<0x6A>', 109],\n",
              " ['<0x6B>', 110],\n",
              " ['<0x6C>', 111],\n",
              " ['<0x6D>', 112],\n",
              " ['<0x6E>', 113],\n",
              " ['<0x6F>', 114],\n",
              " ['<0x70>', 115],\n",
              " ['<0x71>', 116],\n",
              " ['<0x72>', 117],\n",
              " ['<0x73>', 118],\n",
              " ['<0x74>', 119],\n",
              " ['<0x75>', 120],\n",
              " ['<0x76>', 121],\n",
              " ['<0x77>', 122],\n",
              " ['<0x78>', 123],\n",
              " ['<0x79>', 124],\n",
              " ['<0x7A>', 125],\n",
              " ['<0x7B>', 126],\n",
              " ['<0x7C>', 127],\n",
              " ['<0x7D>', 128],\n",
              " ['<0x7E>', 129],\n",
              " ['<0x7F>', 130],\n",
              " ['<0x80>', 131],\n",
              " ['<0x81>', 132],\n",
              " ['<0x82>', 133],\n",
              " ['<0x83>', 134],\n",
              " ['<0x84>', 135],\n",
              " ['<0x85>', 136],\n",
              " ['<0x86>', 137],\n",
              " ['<0x87>', 138],\n",
              " ['<0x88>', 139],\n",
              " ['<0x89>', 140],\n",
              " ['<0x8A>', 141],\n",
              " ['<0x8B>', 142],\n",
              " ['<0x8C>', 143],\n",
              " ['<0x8D>', 144],\n",
              " ['<0x8E>', 145],\n",
              " ['<0x8F>', 146],\n",
              " ['<0x90>', 147],\n",
              " ['<0x91>', 148],\n",
              " ['<0x92>', 149],\n",
              " ['<0x93>', 150],\n",
              " ['<0x94>', 151],\n",
              " ['<0x95>', 152],\n",
              " ['<0x96>', 153],\n",
              " ['<0x97>', 154],\n",
              " ['<0x98>', 155],\n",
              " ['<0x99>', 156],\n",
              " ['<0x9A>', 157],\n",
              " ['<0x9B>', 158],\n",
              " ['<0x9C>', 159],\n",
              " ['<0x9D>', 160],\n",
              " ['<0x9E>', 161],\n",
              " ['<0x9F>', 162],\n",
              " ['<0xA0>', 163],\n",
              " ['<0xA1>', 164],\n",
              " ['<0xA2>', 165],\n",
              " ['<0xA3>', 166],\n",
              " ['<0xA4>', 167],\n",
              " ['<0xA5>', 168],\n",
              " ['<0xA6>', 169],\n",
              " ['<0xA7>', 170],\n",
              " ['<0xA8>', 171],\n",
              " ['<0xA9>', 172],\n",
              " ['<0xAA>', 173],\n",
              " ['<0xAB>', 174],\n",
              " ['<0xAC>', 175],\n",
              " ['<0xAD>', 176],\n",
              " ['<0xAE>', 177],\n",
              " ['<0xAF>', 178],\n",
              " ['<0xB0>', 179],\n",
              " ['<0xB1>', 180],\n",
              " ['<0xB2>', 181],\n",
              " ['<0xB3>', 182],\n",
              " ['<0xB4>', 183],\n",
              " ['<0xB5>', 184],\n",
              " ['<0xB6>', 185],\n",
              " ['<0xB7>', 186],\n",
              " ['<0xB8>', 187],\n",
              " ['<0xB9>', 188],\n",
              " ['<0xBA>', 189],\n",
              " ['<0xBB>', 190],\n",
              " ['<0xBC>', 191],\n",
              " ['<0xBD>', 192],\n",
              " ['<0xBE>', 193],\n",
              " ['<0xBF>', 194],\n",
              " ['<0xC0>', 195],\n",
              " ['<0xC1>', 196],\n",
              " ['<0xC2>', 197],\n",
              " ['<0xC3>', 198],\n",
              " ['<0xC4>', 199],\n",
              " ['<0xC5>', 200],\n",
              " ['<0xC6>', 201],\n",
              " ['<0xC7>', 202],\n",
              " ['<0xC8>', 203],\n",
              " ['<0xC9>', 204],\n",
              " ['<0xCA>', 205],\n",
              " ['<0xCB>', 206],\n",
              " ['<0xCC>', 207],\n",
              " ['<0xCD>', 208],\n",
              " ['<0xCE>', 209],\n",
              " ['<0xCF>', 210],\n",
              " ['<0xD0>', 211],\n",
              " ['<0xD1>', 212],\n",
              " ['<0xD2>', 213],\n",
              " ['<0xD3>', 214],\n",
              " ['<0xD4>', 215],\n",
              " ['<0xD5>', 216],\n",
              " ['<0xD6>', 217],\n",
              " ['<0xD7>', 218],\n",
              " ['<0xD8>', 219],\n",
              " ['<0xD9>', 220],\n",
              " ['<0xDA>', 221],\n",
              " ['<0xDB>', 222],\n",
              " ['<0xDC>', 223],\n",
              " ['<0xDD>', 224],\n",
              " ['<0xDE>', 225],\n",
              " ['<0xDF>', 226],\n",
              " ['<0xE0>', 227],\n",
              " ['<0xE1>', 228],\n",
              " ['<0xE2>', 229],\n",
              " ['<0xE3>', 230],\n",
              " ['<0xE4>', 231],\n",
              " ['<0xE5>', 232],\n",
              " ['<0xE6>', 233],\n",
              " ['<0xE7>', 234],\n",
              " ['<0xE8>', 235],\n",
              " ['<0xE9>', 236],\n",
              " ['<0xEA>', 237],\n",
              " ['<0xEB>', 238],\n",
              " ['<0xEC>', 239],\n",
              " ['<0xED>', 240],\n",
              " ['<0xEE>', 241],\n",
              " ['<0xEF>', 242],\n",
              " ['<0xF0>', 243],\n",
              " ['<0xF1>', 244],\n",
              " ['<0xF2>', 245],\n",
              " ['<0xF3>', 246],\n",
              " ['<0xF4>', 247],\n",
              " ['<0xF5>', 248],\n",
              " ['<0xF6>', 249],\n",
              " ['<0xF7>', 250],\n",
              " ['<0xF8>', 251],\n",
              " ['<0xF9>', 252],\n",
              " ['<0xFA>', 253],\n",
              " ['<0xFB>', 254],\n",
              " ['<0xFC>', 255],\n",
              " ['<0xFD>', 256],\n",
              " ['<0xFE>', 257],\n",
              " ['<0xFF>', 258],\n",
              " ['en', 259],\n",
              " ['▁t', 260],\n",
              " ['ce', 261],\n",
              " ['in', 262],\n",
              " ['ra', 263],\n",
              " ['▁a', 264],\n",
              " ['de', 265],\n",
              " ['er', 266],\n",
              " ['▁s', 267],\n",
              " ['ent', 268],\n",
              " ['or', 269],\n",
              " ['pr', 270],\n",
              " ['▁m', 271],\n",
              " ['▁u', 272],\n",
              " ['ing', 273],\n",
              " ['▁th', 274],\n",
              " ['ence', 275],\n",
              " ['entence', 276],\n",
              " ['Pi', 277],\n",
              " ['ed', 278],\n",
              " ['em', 279],\n",
              " ['ex', 280],\n",
              " ['is', 281],\n",
              " ['iz', 282],\n",
              " ['la', 283],\n",
              " ['on', 284],\n",
              " ['st', 285],\n",
              " ['▁S', 286],\n",
              " ['Pie', 287],\n",
              " ['end', 288],\n",
              " ['ext', 289],\n",
              " ['▁an', 290],\n",
              " ['▁pr', 291],\n",
              " ['▁to', 292],\n",
              " ['▁un', 293],\n",
              " ['▁the', 294],\n",
              " ['Piece', 295],\n",
              " ['▁Sentence', 296],\n",
              " ['▁SentencePiece', 297],\n",
              " ['.]', 298],\n",
              " ['Ne', 299],\n",
              " ['ag', 300],\n",
              " ['do', 301],\n",
              " ['ec', 302],\n",
              " ['gu', 303],\n",
              " ['ic', 304],\n",
              " ['ir', 305],\n",
              " ['it', 306],\n",
              " ['ly', 307],\n",
              " ['to', 308],\n",
              " ['▁(', 309],\n",
              " ['▁[', 310],\n",
              " ['▁f', 311],\n",
              " ['▁n', 312],\n",
              " ['▁w', 313],\n",
              " ['.])', 314],\n",
              " ['age', 315],\n",
              " ['del', 316],\n",
              " ['ion', 317],\n",
              " ['ken', 318],\n",
              " ['lan', 319],\n",
              " ['ral', 320],\n",
              " ['wor', 321],\n",
              " ['yst', 322],\n",
              " ['▁Ne', 323],\n",
              " ['▁al', 324],\n",
              " ['▁de', 325],\n",
              " ['▁is', 326],\n",
              " ['▁ma', 327],\n",
              " ['▁mo', 328],\n",
              " ['izer', 329],\n",
              " ['rain', 330],\n",
              " ['ural', 331],\n",
              " ['▁and', 332],\n",
              " ['▁lan', 333],\n",
              " ['▁pre', 334],\n",
              " ['guage', 335],\n",
              " ['ystem', 336],\n",
              " ['▁text', 337],\n",
              " ['▁model', 338],\n",
              " ['▁train', 339],\n",
              " ['kenizer', 340],\n",
              " ['▁system', 341],\n",
              " ['▁language', 342],\n",
              " ['▁training', 343],\n",
              " ['.,', 344],\n",
              " ['BP', 345],\n",
              " ['Ku', 346],\n",
              " ['ab', 347],\n",
              " ['as', 348],\n",
              " ['at', 349],\n",
              " ['by', 350],\n",
              " ['co', 351],\n",
              " ['es', 352],\n",
              " ['et', 353],\n",
              " ['if', 354],\n",
              " ['ig', 355],\n",
              " ['im', 356],\n",
              " ['ke', 357],\n",
              " ['lo', 358],\n",
              " ['nr', 359],\n",
              " ['oc', 360],\n",
              " ['e', 361],\n",
              " ['▁', 362],\n",
              " ['n', 363],\n",
              " ['t', 364],\n",
              " ['i', 365],\n",
              " ['r', 366],\n",
              " ['a', 367],\n",
              " ['o', 368],\n",
              " ['s', 369],\n",
              " ['d', 370],\n",
              " ['c', 371],\n",
              " ['l', 372],\n",
              " ['u', 373],\n",
              " ['g', 374],\n",
              " ['m', 375],\n",
              " ['p', 376],\n",
              " ['.', 377],\n",
              " ['h', 378],\n",
              " ['-', 379],\n",
              " ['w', 380],\n",
              " ['y', 381],\n",
              " ['P', 382],\n",
              " ['S', 383],\n",
              " ['b', 384],\n",
              " ['f', 385],\n",
              " ['k', 386],\n",
              " [')', 387],\n",
              " ['x', 388],\n",
              " ['z', 389],\n",
              " ['(', 390],\n",
              " ['N', 391],\n",
              " ['[', 392],\n",
              " [']', 393],\n",
              " ['v', 394],\n",
              " [',', 395],\n",
              " ['/', 396],\n",
              " ['B', 397],\n",
              " ['E', 398],\n",
              " ['K', 399]]"
            ]
          },
          "metadata": {},
          "execution_count": 74
        }
      ]
    },
    {
      "cell_type": "code",
      "source": [
        "ids = sp.encode(\"hello इस वाक्य का\")\n",
        "print(ids)"
      ],
      "metadata": {
        "colab": {
          "base_uri": "https://localhost:8080/",
          "height": 53
        },
        "id": "onwC-n5xpM1G",
        "outputId": "bc3e75c5-2c7d-48e2-ec9f-36183dd43d4e"
      },
      "execution_count": null,
      "outputs": [
        {
          "output_type": "display_data",
          "data": {
            "text/plain": [
              "<IPython.core.display.HTML object>"
            ],
            "text/html": [
              "\n",
              "  <style>\n",
              "    pre {\n",
              "        white-space: pre-wrap;\n",
              "    }\n",
              "  </style>\n",
              "  "
            ]
          },
          "metadata": {}
        },
        {
          "output_type": "stream",
          "name": "stdout",
          "text": [
            "[362, 378, 361, 372, 358, 362, 227, 167, 138, 227, 167, 187, 362, 227, 167, 184, 227, 167, 193, 227, 167, 152, 227, 168, 144, 227, 167, 178, 362, 227, 167, 152, 227, 167, 193]\n"
          ]
        }
      ]
    },
    {
      "cell_type": "code",
      "source": [
        "print([sp.id_to_piece(idx) for idx in ids])"
      ],
      "metadata": {
        "colab": {
          "base_uri": "https://localhost:8080/",
          "height": 71
        },
        "id": "CwUGTRwwpQku",
        "outputId": "d7ad9ea7-9239-410f-cdee-747b08b162ca"
      },
      "execution_count": null,
      "outputs": [
        {
          "output_type": "display_data",
          "data": {
            "text/plain": [
              "<IPython.core.display.HTML object>"
            ],
            "text/html": [
              "\n",
              "  <style>\n",
              "    pre {\n",
              "        white-space: pre-wrap;\n",
              "    }\n",
              "  </style>\n",
              "  "
            ]
          },
          "metadata": {}
        },
        {
          "output_type": "stream",
          "name": "stdout",
          "text": [
            "['▁', 'h', 'e', 'l', 'lo', '▁', '<0xE0>', '<0xA4>', '<0x87>', '<0xE0>', '<0xA4>', '<0xB8>', '▁', '<0xE0>', '<0xA4>', '<0xB5>', '<0xE0>', '<0xA4>', '<0xBE>', '<0xE0>', '<0xA4>', '<0x95>', '<0xE0>', '<0xA5>', '<0x8D>', '<0xE0>', '<0xA4>', '<0xAF>', '▁', '<0xE0>', '<0xA4>', '<0x95>', '<0xE0>', '<0xA4>', '<0xBE>']\n"
          ]
        }
      ]
    },
    {
      "cell_type": "code",
      "source": [],
      "metadata": {
        "id": "y8K7O46zvlIf"
      },
      "execution_count": null,
      "outputs": []
    }
  ]
}